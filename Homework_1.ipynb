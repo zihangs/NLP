{
 "cells": [
  {
   "cell_type": "markdown",
   "metadata": {
    "deletable": true,
    "editable": true
   },
   "source": [
    "# Homework 1: Preprocessing and Text Classification"
   ]
  },
  {
   "cell_type": "markdown",
   "metadata": {
    "collapsed": true,
    "deletable": true,
    "editable": true
   },
   "source": [
    "Student Name: Zihang Su\n",
    "\n",
    "Student ID: 710118\n",
    "\n",
    "Python version used: Python 3"
   ]
  },
  {
   "cell_type": "markdown",
   "metadata": {
    "deletable": true,
    "editable": true
   },
   "source": [
    "## General info"
   ]
  },
  {
   "cell_type": "markdown",
   "metadata": {
    "deletable": true,
    "editable": true
   },
   "source": [
    "<b>Due date</b>: 11pm, Sunday March 18th\n",
    "\n",
    "<b>Submission method</b>: see LMS\n",
    "\n",
    "<b>Submission materials</b>: completed copy of this iPython notebook\n",
    "\n",
    "<b>Late submissions</b>: -20% per day\n",
    "\n",
    "<b>Marks</b>: 5% of mark for class\n",
    "\n",
    "<b>Overview</b>: In this homework, you'll be using a corpus of tweets to do tokenisation of hashtags and build polarity classifers using bag of word (BOW) features.\n",
    "\n",
    "<b>Materials</b>: See the main class LMS page for information on the basic setup required for this class, including an iPython notebook viewer and the python packages NLTK, Numpy, Scipy, Matplotlib, Scikit-Learn, and Gensim. In particular, if you are not using a lab computer which already has it installed, we recommend installing all the data for NLTK, since you will need various parts of it to complete this assignment. You can also use any Python built-in packages, but do not use any other 3rd party packages (the packages listed above are all fine to use); if your iPython notebook doesn't run on the marker's machine, you will lose marks.  \n",
    "\n",
    "<b>Evaluation</b>: Your iPython notebook should run end-to-end without any errors in a few minutes, and you must follow all instructions provided below, including specific implementation requirements and instructions for what needs to be printed (please avoid printing output we don't ask for). The amount each section is worth is given in parenthesis after the instructions. You will be marked not only on the correctness of your methods, but also the quality and efficency of your code: in particular, you should be careful to use Python built-in functions and operators when appropriate and pick descriptive variable names that adhere to <a href=\"https://www.python.org/dev/peps/pep-0008/\">Python style requirements</a>. If you think it might be unclear what you are doing, you should comment your code to help the marker make sense of it.\n",
    "\n",
    "<b>Extra credit</b>: Each homework has a task which is optional with respect to getting full marks on the assignment, but that can be used to offset any points lost on this or any other homework assignment (but not the final project or the exam). We recommend you skip over this step on your first pass, and come back if you have time: the amount of effort required to receive full marks (1 point) on an extra credit question will be substantially more than earning the same amount of credit on other parts of the homework.\n",
    "\n",
    "<b>Updates</b>: Any major changes to the assignment will be announced via LMS. Minor changes and clarifications will be announced in the forum on LMS, we recommend you check the forum regularly.\n",
    "\n",
    "<b>Academic Misconduct</b>: For most people, collaboration will form a natural part of the undertaking of this homework, and we encourge you to discuss it in general terms with other students. However, this ultimately is still an individual task, and so reuse of code or other instances of clear influence will be considered cheating. We will be checking submissions for originality and will invoke the University’s <a href=\"http://academichonesty.unimelb.edu.au/policy.html\">Academic Misconduct policy</a> where inappropriate levels of collusion or plagiarism are deemed to have taken place.\n"
   ]
  },
  {
   "cell_type": "markdown",
   "metadata": {
    "deletable": true,
    "editable": true
   },
   "source": [
    "## Preprocessing"
   ]
  },
  {
   "cell_type": "markdown",
   "metadata": {
    "collapsed": true,
    "deletable": true,
    "editable": true
   },
   "source": [
    "<b>Instructions</b>: For this homework we will be using the tweets in the <i>twitter_samples</i> corpus included with NLTK. You should start by accessing these tweets. Use the <i>strings</i> method included in the NLTK corpus reader for <i>twitter_samples</i> to access the tweets (as raw strings). Iterate over the full corpus, and print out the average length, in characters, of the tweets in the corpus. (0.5)\n"
   ]
  },
  {
   "cell_type": "code",
   "execution_count": 10,
   "metadata": {
    "collapsed": false,
    "deletable": true,
    "editable": true,
    "scrolled": true
   },
   "outputs": [
    {
     "name": "stdout",
     "output_type": "stream",
     "text": [
      "[nltk_data] Downloading package twitter_samples to\n",
      "[nltk_data]     C:\\Users\\msi\\AppData\\Roaming\\nltk_data...\n",
      "[nltk_data]   Package twitter_samples is already up-to-date!\n",
      "103.85176666666666\n"
     ]
    }
   ],
   "source": [
    "import nltk\n",
    "nltk.download('twitter_samples')\n",
    "from nltk.corpus import twitter_samples as ts\n",
    "\n",
    "strings = ts.strings()\n",
    "count = 0\n",
    "total_length = 0\n",
    "for tweet in strings:\n",
    "    count += 1\n",
    "    total_length += len(tweet)\n",
    "\n",
    "average_length = total_length / count\n",
    "print(average_length)"
   ]
  },
  {
   "cell_type": "markdown",
   "metadata": {
    "deletable": true,
    "editable": true
   },
   "source": [
    "<b>Instructions</b>: Hashtags (i.e. topic tags which start with #) pose an interesting tokenisation problem because they often include multiple words written without spaces or capitalization. You should use a regular expression to extract all hashtags of length 8 or longer which consist only of lower case letters (other than the # at the beginning, of course, though this should be stripped off as part of the extraction process). Do <b>not</b> tokenise the entire tweet as part of this process. The hashtag might occur at the beginning or the end of the tweet; you should double-check that you aren't missing any. After you have collected them into a list, print out number of hashtags you have collected: for full credit, you must get the exact number that we expect.  (1.0)"
   ]
  },
  {
   "cell_type": "code",
   "execution_count": 11,
   "metadata": {
    "collapsed": false,
    "deletable": true,
    "editable": true,
    "scrolled": false
   },
   "outputs": [
    {
     "name": "stdout",
     "output_type": "stream",
     "text": [
      "1411\n"
     ]
    }
   ],
   "source": [
    "import re\n",
    "\n",
    "hashtags = []\n",
    "for string in strings:\n",
    "    hashtags += re.findall('(?<=\\s)#[a-z]{8,}(?=\\s)|^#[a-z]{8,}(?=\\s)|(?<=\\s)#[a-z]{8,}$|^#[a-z]{8,}$', string)\n",
    "    \n",
    "print(len(hashtags))"
   ]
  },
  {
   "cell_type": "markdown",
   "metadata": {
    "deletable": true,
    "editable": true
   },
   "source": [
    "<b>Instructions</b>: Now, tokenise the hashtags you've collected. To do this, you should implement a reversed version of the MaxMatch algorithm discussed in class (and in the reading), where matching begins at the end of the hashtag and progresses backwards. NLTK has a list of words that you can use for matching, see starter code below. Be careful about efficiency with respect to doing word lookups. One extra challenge you have to deal with is that the provided list of words includes only lemmas: your MaxMatch algorithm should match inflected forms by converting them into lemmas using the NLTK lemmatiser before matching. Note that the list of words is incomplete, and, if you are unable to make any longer match, your code should default to matching a single letter. Create a new list of tokenised hashtags (this should be a list of lists of strings) and use slicing to print out the last 20 hashtags in the list. (1.0)"
   ]
  },
  {
   "cell_type": "code",
   "execution_count": 12,
   "metadata": {
    "collapsed": false,
    "deletable": true,
    "editable": true,
    "scrolled": false
   },
   "outputs": [
    {
     "name": "stdout",
     "output_type": "stream",
     "text": [
      "[['debate', 'leaders'], ['campaign', 'wow'], ['security', 'social'], ['lies', 'tory'], ['election'], ['c', 'b', 'b', 'd', 'ase', 'i', 'b'], ['doorstep', 'labour'], ['c', 'b', 'b', 'd', 'ase', 'i', 'b'], ['con', 'blab', 'li'], ['debate', 'c', 'b', 'b'], ['fandom', 'li', 'mi'], ['parliament', 'k', 'u'], ['tax', 'bedroom'], ['disability'], ['is', 'nab', 'can'], ['green', 'vote'], ['stings', 'u', 'h', 'li', 'el', 'lan', 'l'], ['tax', 'bedroom'], ['disability'], ['bankrupt']]\n"
     ]
    }
   ],
   "source": [
    "words = nltk.corpus.words.words() # words is a Python list\n",
    "\n",
    "lemmatizer = nltk.stem.wordnet.WordNetLemmatizer()\n",
    "max_reverse_matched = []\n",
    "\n",
    "def reverse_max_match(string):\n",
    "    length = len(string)\n",
    "    i = 0\n",
    "    while i < length:\n",
    "        lemma = lemmatizer.lemmatize(string[i:])\n",
    "        if lemma in words:\n",
    "            matched = string[i:]   # keep the original word\n",
    "            rest = string[0:i]\n",
    "            return (matched, rest)\n",
    "        i += 1\n",
    "        \n",
    "    # default to matching a single letter when there is no matched\n",
    "    return (string[-1], string[0:-1])  \n",
    "\n",
    "for word in hashtags:\n",
    "    tokenised = []\n",
    "    \n",
    "    # remove the hashtag symbol\n",
    "    word = re.sub(\"[#]\", \"\", word).strip()\n",
    "    while len(word) > 0:\n",
    "        matched = reverse_max_match(word)[0]\n",
    "        tokenised.append(matched)\n",
    "        \n",
    "        # after match a word, update the rest of unchecked string\n",
    "        rest = reverse_max_match(word)[1]\n",
    "        word = rest\n",
    "    max_reverse_matched.append(tokenised)\n",
    "print(max_reverse_matched[-20:])"
   ]
  },
  {
   "cell_type": "markdown",
   "metadata": {
    "deletable": true,
    "editable": true
   },
   "source": [
    "This program need to run around 2 mintues in my laptop, the outcome is shown as below. (You could first have a look at the outcome while the program is runnig. Thank you for your patient.)\n",
    "\n",
    "[['debate', 'leaders'], ['campaign', 'wow'], ['security', 'social'], ['lies', 'tory'], ['election'], ['c', 'b', 'b', 'd', 'ase', 'i', 'b'], ['doorstep', 'labour'], ['c', 'b', 'b', 'd', 'ase', 'i', 'b'], ['con', 'blab', 'li'], ['debate', 'c', 'b', 'b'], ['fandom', 'li', 'mi'], ['parliament', 'k', 'u'], ['tax', 'bedroom'], ['disability'], ['is', 'nab', 'can'], ['green', 'vote'], ['stings', 'u', 'h', 'li', 'el', 'lan', 'l'], ['tax', 'bedroom'], ['disability'], ['bankrupt']]"
   ]
  },
  {
   "cell_type": "markdown",
   "metadata": {
    "deletable": true,
    "editable": true
   },
   "source": [
    "### Extra Credit (Optional)\n",
    "<b>Instructions</b>: Implement the forward version of the MaxMatch algorithm as well, and print out all the hashtags which give different results for the two versions of MaxMatch. Your main task is to come up with a good way to select which of the two segmentations is better for any given case, and demonstrate that it works significantly better than using a single version of the algorithm for all hashtags. (1.0)"
   ]
  },
  {
   "cell_type": "code",
   "execution_count": 13,
   "metadata": {
    "collapsed": false,
    "deletable": true,
    "editable": true
   },
   "outputs": [
    {
     "name": "stdout",
     "output_type": "stream",
     "text": [
      "[['a', 'th', 'abas', 'ca'], ['explore', 'albe', 'r', 'ta'], ['ba', 'tal', 'lad', 'el', 'os', 'gall', 'os'], ['web', 'cam', 'sex'], ['ins', 'ta', 'gram'], ['add', 'm', 'eon', 'snap', 'chat'], ['k', 'i', 'k', 'sex', 'ting'], ['or', 'ca', 'love'], ['fresh', 'ers', 'to', 'finals'], ['undercover', 'bo', 'ss'], ['z', 'ay', 'nis', 'coming', 'back'], ['k', 'i', 'k', 'sex', 'ting'], ['g', 'i', 'ach', 'ie', 'tit', 'ti', 'wedding'], ['i', 'gers', 'of', 'the', 'day'], ['anyway', 'he', 'di', 'da', 'nice', 'job'], ['be', 'stof', 'the', 'day'], ['sa', 'bad', 'ode', 'ga', 'nar', 'seg', 'u', 'id', 'ores'], ['feels', 'li', 'k', 'ean', 'idiot'], ['matter', 'of', 'the', 'heart'], ['hot', 'f', 'm', 'noa', 'id', 'i', 'l', 'fora', 'ria', 'na'], ['han', 'ni', 'bal'], ['add', 'm', 'eon', 'snap', 'chat'], ['p', 'r', 'em', 'io', 'stum', 'undo'], ['a', 'us', 'fa', 'ilia'], ['k', 'i', 'k', 'sex', 'ting'], ['st', 'afford'], ['we', 'wan', 'tice', 'cream'], ['feel', 'good', 'f', 'rid', 'ay'], ['p', 'h', 'android'], ['sexy', 'sa', 'sun', 'day'], ['z', 'ay', 'nis', 'coming', 'back'], ['k', 'i', 'k', 'm', 'enow'], ['sa', 'bad', 'ode', 'ga', 'nar', 'seg', 'u', 'id', 'ores'], ['cycle', 'revolution'], ['be', 'stof', 'the', 'day'], ['be', 'stof', 'the', 'day'], ['sexy', 'sa', 'sun', 'day'], ['self', 'shot'], ['where', 'ist', 'hes', 'un'], ['summer', 'is', 'missing'], ['z', 'ay', 'nis', 'coming', 'back'], ['k', 'i', 'k', 'm', 'enow'], ['in', 'die', 'music'], ['self', 'shot'], ['el', 'find', 'elm', 'undo'], ['web', 'cam', 'sex'], ['my', 'brain', 'needs', 'to', 'shutoff'], ['death', 'by', 'bacon', 'smell'], ['i', 'min', 'toher'], ['photo', 'of', 'the', 'day'], ['in', 'die', 'music'], ['in', 'die', 'music'], ['in', 'die', 'music'], ['in', 'die', 'music'], ['in', 'die', 'music'], ['han', 'ni', 'bal'], ['hot', 'f', 'm', 'noa', 'id', 'i', 'l', 'fora', 'ria', 'na'], ['photo', 'of', 'the', 'day'], ['in', 'die', 'music'], ['just', 'got', 'ka', 'ne', 'k', 'i', 'fie', 'd'], ['in', 'die', 'music'], ['in', 'die', 'music'], ['k', 'i', 'k', 'm', 'enow'], ['k', 'i', 'k', 'm', 'enow'], ['lo', 'u', 'i', 'si', 'ana'], ['in', 'die', 'music'], ['do', 'copen', 'h', 'agen'], ['phone', 'sex'], ['k', 'i', 'k', 'k', 'om', 'ansa', 'bor'], ['k', 'i', 'k', 'm', 'enow'], ['web', 'cam', 'sex'], ['k', 'i', 'k', 'sex', 'ting'], ['bra', 'si', 'lei', 'ra', 'o'], ['ba', 'tal', 'lad', 'el', 'os', 'gall', 'os'], ['give', 'codpiece', 'ach', 'an', 'ce'], ['k', 'i', 'k', 'm', 'enow'], ['k', 'i', 'k', 'm', 'enow'], ['han', 'ni', 'bal'], ['k', 'i', 'k', 'sex', 'ting'], ['k', 'i', 'k', 'sex', 'ting'], ['hot', 'music', 'de', 'loco', 's'], ['the', 'struggle', 'is', 'real'], ['b', 'b', 'loggers'], ['hot', 'music', 'de', 'loco', 's'], ['web', 'cam', 'sex'], ['p', 'r', 'em', 'io', 'stum', 'undo'], ['she', 'skin', 'da', 'hot'], ['phone', 'sex'], ['k', 'i', 'k', 'm', 'enow'], ['bra', 'si', 'lei', 'ra', 'o'], ['vier', 'nes', 'de', 'role', 'na', 'hot'], ['k', 'i', 'k', 'm', 'enow'], ['el', 'find', 'elm', 'undo'], ['sext', 'aa', 'te', 'q', 'u', 'em', 'fi', 'ms', 'e', 'gue', 's', 'd', 'v', 'c', 'om', 'valent', 'in', 'o'], ['yo', 'g', 'yak', 'ar', 'ta'], ['yo', 'g', 'yak', 'ar', 'ta'], ['y', 'ay', 'they', 'look', 'great'], ['k', 'i', 'k', 'm', 'enow'], ['my', 'pap', 'amy', 'pride'], ['qua', 'c', 'ket', 'y', 'quack'], ['f', 'ah', 'r', 'in', 'ah', 'mad'], ['teng', 'k', 'u', 'a', 'ar', 'on', 'shah'], ['have', 'ago', 'odd', 'ay'], ['super', 'smash'], ['hot', 'n', 'sexy'], ['frisky', 'f', 'rid', 'ay'], ['dis', 'n', 'ey', 'infinity'], ['pen', 'a', 'c', 'ova'], ['la', 'tinhouse'], ['photo', 'of', 'the', 'day'], ['she', 'skin', 'da', 'hot'], ['f', 'o', 'ie', 'g', 'ras'], ['check', 'ing'], ['j', 'our', 'no', 'request'], ['g', 'otto', 'love', 'banks'], ['qua', 'c', 'ket', 'y', 'quack'], ['top', 'travel', 'cent', 'ar'], ['l', 'b', 'loggers'], ['p', 'b', 'loggers'], ['dedicate', 'd', 'fan'], ['add', 'm', 'eon', 'b', 'b', 'm'], ['scot', 'lan', 'dis', 'massive'], ['k', 'i', 'k', 'sex', 'ting'], ['k', 'i', 'k', 'm', 'enow'], ['k', 'i', 'k', 'k', 'om', 'ansa', 'bor'], ['k', 'i', 'k', 'sex', 'ting'], ['k', 'i', 'k', 'sex', 'ting'], ['takes', 'one', 'to', 'know', 'one'], ['b', 'eme', 'code'], ['p', 'roud', 'to', 'b', 'eme'], ['el', 'find', 'elm', 'undo'], ['trace', 'request'], ['sa', 'bad', 'ode', 'ga', 'nar', 'seg', 'u', 'id', 'ores'], ['sexy', 'sa', 'sun', 'day'], ['qua', 'c', 'ket', 'y', 'quack'], ['han', 'ni', 'bal'], ['phone', 'sex'], ['crowd', 'fun', 'ding'], ['f', 'rid', 'ay', 'fun'], ['e', 'jay', 'st', 'er'], ['word', 'of', 'the', 'week'], ['free', 'b', 'ie', 'f', 'rid', 'ay'], ['i', 'need', 'feminism', 'because'], ['r', 'u', 'drama', 'dev', 'i'], ['b', 'randing'], ['love', 'summertime'], ['tele', 'c', 'o', 'ms'], ['f', 'rid', 'ay', 'feeling'], ['f', 'o', 'ie', 'g', 'ras'], ['f', 'avo', 'u', 'rites'], ['tele', 'c', 'o', 'ms'], ['re', 'alo', 'shi'], ['deals', 'ut', 'hao', 'note', 'ba', 'chao'], ['binding', 'of', 'is', 'sac'], ['hot', 'music', 'de', 'loco', 's'], ['super', 'heroes'], ['s', 'c', 'i', 'fi', 'fan'], ['live', 'ons', 't', 'ream', 'ate'], ['bowwow', 'chi', 'ca', 'wow', 'wow'], ['qua', 'c', 'ket', 'y', 'quack'], ['it', 'sa', 'marvel', 'thing'], ['the', 'grand', 'ad'], ['f', 'rid', 'ay', 'feeling'], ['k', 'i', 'k', 'sex', 'ting'], ['in', 'die', 'music'], ['in', 'die', 'music'], ['sunn', 'yday'], ['qua', 'c', 'ket', 'y', 'quack'], ['vs', 'c', 'o', 'good'], ['vs', 'cop', 'hi', 'l'], ['vs', 'c', 'o', 'cousins'], ['horse', 'racing'], ['horse', 'racing', 'tips'], ['p', 'r', 'em', 'io', 'stum', 'undo'], ['k', 'i', 'k', 'k', 'om', 'ansa', 'bor'], ['photo', 'of', 'the', 'day'], ['in', 'die', 'music'], ['keep', 'it', 'local'], ['keep', 'it', 'local'], ['qua', 'c', 'ket', 'y', 'quack'], ['ins', 'ta', 'good'], ['photo', 'of', 'the', 'day'], ['video', 'graph', 'er'], ['pro', 'sec', 'c', 'o'], ['de', 'cora', 'ting'], ['sloven', 'i', 'a'], ['tell', 'an', 'old', 'joke', 'day'], ['be', 'stof', 'the', 'day'], ['p', 'r', 'em', 'io', 'stum', 'undo'], ['yo', 'g', 'yak', 'ar', 'ta'], ['w', 'alan', 'g', 'ma', 'kaka', 'pig', 'i', 'ls', 'akin'], ['healthy', 'life', 'style'], ['non', 'scrip', 'ted'], ['add', 'm', 'eon', 'snap', 'chat'], ['k', 'i', 'k', 'm', 'enow'], ['sexy', 'sa', 'tur', 'day'], ['k', 'i', 'k', 'sex', 'ting'], ['in', 'die', 'music'], ['extreme', 'sports'], ['blo', 'g', 'gers', 'require', 'd'], ['b', 'logger', 'swan', 'ted'], ['a', 'shram', 'calling'], ['ni', 'te', 'flirt'], ['n', 'om', 'n', 'om', 'n', 'om'], ['w', 'upper', 'tal'], ['ins', 'ta', 'good'], ['sexy', 'sa', 'sun', 'day'], ['in', 'die', 'music'], ['frisky', 'fi', 'day'], ['qua', 'c', 'ket', 'y', 'quack'], ['messenger', 'for', 'aday'], ['sin', 'ga', 'pore'], ['you', 'rewelcome'], ['hind', 'u', 'god'], ['mel', 'bourn', 'e', 'burg', 'ers'], ['l', 'on', 'do', 'u', 'trading'], ['ins', 'ta', 'gram'], ['maritime', 'nation'], ['the', 'world', 'would', 'change'], ['zorro', 'ret', 'ur', 'ms'], ['hug', 'ahu', 'sky'], ['d', 'avid', 'cam', 'er', 'on', 'tweet'], ['great', 'storm'], ['al', 'exs', 'almond'], ['scot', 'ti', 'sh', 'labour'], ['mi', 'li', 'stumble'], ['rude', 'man', 'slap', 'down'], ['al', 'li', 'nit', 'together'], ['mil', 'li', 'brand', 'cuts'], ['an', 'tag', 'had', 'h'], ['mil', 'li', 'brand', 'cuts'], ['vote', 'labour', 'or', 'else'], ['l', 'lane', 'l', 'li', 'husting', 's'], ['ask', 'ni', 'cola', 'sturgeon'], ['e', 'd', 'mi', 'li', 'band'], ['mi', 'li', 'band'], ['grant', 'shap', 'ps'], ['mi', 'li', 'band'], ['say', 'si', 'tall'], ['cant', 'be', 'arse', 'd', 'm', 'ps'], ['e', 'd', 'mi', 'li', 'band'], ['mi', 'li', 'band'], ['mil', 'li', 'band'], ['mi', 'li', 'madness'], ['to', 'wa', 'kana'], ['mi', 'li', 'madness'], ['scot', 'ti', 'sh', 'labour'], ['l', 'even', 'son'], ['mi', 'li', 'brand', 'cuts'], ['we', 'are', 'all', 'do', 'o', 'me', 'd'], ['mi', 'li', 'brand', 'cuts'], ['fa', 'rage', 'i', 'cal'], ['al', 'exs', 'almond'], ['do', 'u', 'blee', 'ur', 'o', 'pean', 'trouble'], ['mi', 'li', 'brand', 'cuts'], ['mil', 'li', 'brand'], ['li', 'b', 'd', 'em', 'problems'], ['al', 'exs', 'almond'], ['mil', 'li', 'brand', 'cuts'], ['al', 'exs', 'almond'], ['horse', 'has', 'bo', 'l', 'ted'], ['mi', 'li', 'madness'], ['mi', 'li', 'brand'], ['mil', 'li', 'brand', 'cuts'], ['li', 'b', 'd', 'em', 'problems'], ['m', 'p', 'ona', 'train'], ['mil', 'li', 'brand', 'cuts'], ['we', 'are', 'all', 'do', 'o', 'me', 'd'], ['nick', 'robin', 'son'], ['rule', 'brit', 'ann', 'i', 'a'], ['welcome', 'toes', 'sex'], ['bairn', 'snot', 'bombs'], ['we', 'are', 'all', 'do', 'o', 'me', 'd'], ['ca', 'mero', 'net', 'tes'], ['we', 'are', 'all', 'do', 'o', 'me', 'd'], ['nick', 'robin', 'son'], ['mi', 'li', 'brand', 'cuts'], ['al', 'exs', 'almond'], ['catching', 'up'], ['handled', 'that', 'bas', 'hing', 'well'], ['nick', 'robin', 'son'], ['mil', 'li', 'brand', 'cuts'], ['mi', 'li', 'band'], ['re', 'tweet', 'and', 'follow', 'me'], ['bairn', 'snot', 'bombs'], ['mi', 'li', 'brand', 'cuts'], ['just', 'say', 'in'], ['al', 'exs', 'almond'], ['immigrant', 'solution'], ['s', 'cotland'], ['star', 'tups'], ['ask', 'fa', 'rage'], ['ask', 'for', 'money'], ['li', 'b', 'd', 'em', 'problems'], ['m', 'p', 'ona', 'train'], ['l', 'lane', 'l', 'li', 'husting', 's'], ['votes', 'n', 'p', 'get', 'sexy'], ['just', 'say', 'in'], ['hyp', 'no', 'toad'], ['hyp', 'no', 'toad'], ['pa', 'e', 'dob', 'rita', 'in'], ['pa', 'e', 'dob', 'rita', 'in'], ['pa', 'e', 'dob', 'rita', 'in'], ['pa', 'e', 'dob', 'rita', 'in'], ['scot', 'ti', 'sh', 'labour'], ['mil', 'li', 'brand', 'cuts'], ['dont', 'vote', 'u', 'kip'], ['mi', 'li', 'fandom'], ['mi', 'li', 'band'], ['no', 'idea', 'wha', 'ti', 'm', 'doing'], ['h', 'ar', 'de', 'st', 'challenge'], ['might', 'of', 'gotten', 'cham', 'pan', 'ge'], ['messe', 'swith', 'my', 'head'], ['li', 'b', 'd', 'em', 'problems'], ['nick', 'cleg', 'g'], ['clue', 'l', 'ess'], ['i', 'sit', 'right'], ['la', 'nar', 'khu', 'stings'], ['working', 'class', 'tory'], ['li', 'b', 'd', 'em', 'problems'], ['l', 'lane', 'l', 'li', 'husting', 's'], ['rule', 'brit', 'ann', 'i', 'a'], ['use', 'your', 'sense'], ['n', 'erd', 'lover'], ['la', 'nar', 'khu', 'stings'], ['mi', 'li', 'fandom'], ['mi', 'li', 'fandom'], ['ask', 'fa', 'rage'], ['vote', 'u', 'kip'], ['you', 'reap', 'what', 'you', 'sow'], ['cloud', 'coo', 'ko', 'o'], ['badger', 'scull', 'tories'], ['bairn', 'snot', 'bombs'], ['wear', 'eon', 'the', 'same', 'side', 'get', 'rid', 'of', 'cam', 'er', 'on'], ['ask', 'fa', 'rage'], ['frustrate', 'd'], ['or', 'g', 'anise', 'd', 'crime'], ['b', 'b', 'c', 'election'], ['l', 'lane', 'l', 'li', 'husting', 's'], ['fa', 'rage', 'fail'], ['vote', 'u', 'kip'], ['ask', 'fa', 'rage'], ['s', 'tur', 'wars'], ['mi', 'li', 'fandom'], ['blue', 'tinted', 'specs'], ['stumble', 'gate'], ['l', 'lane', 'l', 'li', 'husting', 's'], ['ask', 'ni', 'cola', 'sturgeon'], ['fa', 'rage', 'fail'], ['wat', 'k', 'ie', 'st', 'n', 'l'], ['scot', 'ti', 'sh', 'labour'], ['ask', 'fa', 'rage'], ['to', 'rie', 'manifesto'], ['ow', 'ne', 'd', 'by', 'the', 'northerners'], ['ask', 'ni', 'gel', 'far', 'ge'], ['man', 'chester'], ['immigration', 'u', 'k'], ['green', 'surge'], ['vote', 'u', 'kip'], ['get', 'to', 'the', 'point'], ['horrible', 'man'], ['horrible', 'man'], ['ask', 'ni', 'gel'], ['mi', 'li', 'band'], ['horrible', 'man'], ['mil', 'li', 'band'], ['hyp', 'ocracy'], ['li', 'b', 'd', 'em', 'problems'], ['nick', 'cleg', 'g'], ['clue', 'l', 'ess'], ['li', 'b', 'd', 'em', 'problems'], ['m', 'p', 'ona', 'train'], ['election', 'de', 'bat'], ['ask', 'ni', 'gel', 'fa', 'rage'], ['mi', 'li', 'fandom'], ['mi', 'li', 'fandom'], ['s', 'cotland'], ['mi', 'li', 'fandom'], ['just', 'say', 'in'], ['stumble', 'gate'], ['e', 'd', 'mil', 'li', 'band'], ['mil', 'li', 'band'], ['scot', 'ti', 'sh', 'labour'], ['hove', 'husting', 's'], ['justice', 'f', 'o', 'rab', 'used', 'children'], ['ni', 'gel', 'fa', 'rage'], ['jihad', 'i', 'jo', 'h', 'n'], ['jihad', 'i', 'brides'], ['blind', 'side'], ['mi', 'li', 'fandom'], ['horrible', 'man'], ['l', 'lane', 'l', 'li', 'husting', 's'], ['general', 'election'], ['f', 'r', 'en', 'c', 'h', 'gate'], ['l', 'lane', 'l', 'li', 'husting', 's'], ['mi', 'li', 'band'], ['con', 'g', 'rats'], ['mi', 'li', 'fandom'], ['s', 'tal', 'ber', 't'], ['mi', 'li', 'fandom'], ['or', 'g', 'anise', 'd'], ['vote', 'u', 'kip'], ['taking', 'jobs', 'off', 'brit', 'is', 'h', 'people'], ['mi', 'li', 'fandom'], ['s', 'cotland'], ['s', 'inn', 'fe', 'in'], ['mar', 'ga', 'ret', 'hod', 'ge'], ['scot', 'ti', 'sh', 'labour'], ['ask', 'fa', 'rage'], ['liar', 'liar', 'pant', 'son', 'fire'], ['oh', 'brother', 'where', 'art', 'thou'], ['stop', 'u', 'kip'], ['we', 'are', 'all', 'do', 'o', 'me', 'd'], ['ask', 'fa', 'rage'], ['mi', 'li', 'fandom'], ['vote', 'u', 'kip'], ['l', 'lane', 'l', 'li', 'husting', 's'], ['s', 'cotland'], ['ni', 'gel', 'fa', 'rage'], ['ni', 'gel', 'fa', 'rage'], ['mi', 'li', 'fandom'], ['cleg', 'gers'], ['s', 'inn', 'fe', 'in'], ['mi', 'li', 'band'], ['horrible', 'man'], ['f', 'racking'], ['stumble', 'gate'], ['ask', 'ni', 'gel', 'fa', 'rage'], ['general', 'election'], ['l', 'lane', 'l', 'li', 'husting', 's'], ['voting', 'system', 'turnoff'], ['poor', 'show'], ['s', 'adman', 'ona', 'train'], ['social', 'security'], ['ask', 'ni', 'gel', 'fa', 'rage'], ['mi', 'li', 'fandom'], ['poor', 'show'], ['b', 'log', 'p', 'or', 'n', 'star'], ['mi', 'li', 'band'], ['ask', 'ni', 'gel', 'fa', 'rage'], ['general', 'election'], ['sherlock', 'holm', 'es', 'incarnate'], ['ask', 'ni', 'gel', 'fa', 'rage'], ['n', 'om', 'n', 'ey', 'left'], ['get', 'to', 'the', 'point'], ['poor', 'show'], ['just', 'no', 'tup', 'toit'], ['de', 'f', 'fono', 't', 'p', 'c'], ['s', 'cotland'], ['mi', 'li', 'fandom'], ['general', 'election'], ['mi', 'li', 'band'], ['general', 'election'], ['v', 'e', 'ne', 'z', 'u', 'e', 'la'], ['nos', 'hit', 'sherlock'], ['v', 'e', 'ne', 'z', 'u', 'e', 'la'], ['even', 'worse', 'than', 'kay', 'bur', 'ley'], ['death', 'of', 'labour'], ['too', 'close', 'to', 'call'], ['stumble', 'gate'], ['q', 'f', 'era', 'news'], ['ask', 'ni', 'cola', 'sturgeon'], ['ask', 'ni', 'gel', 'fa', 'rage'], ['m', 'anon', 'the', 'left'], ['mi', 'li', 'band'], ['no', 'more', 'lies'], ['no', 'more', 'lies'], ['tea', 'party'], ['unite', 'right'], ['mi', 'li', 'fandom'], ['even', 'worse', 'than', 'kay', 'bur', 'ley'], ['no', 'more', 'lies'], ['s', 'cotland'], ['like', 'you', 'dont', 'even', 'wan', 'tit'], ['the', 'reis', 'no', 'escape'], ['even', 'worse', 'than', 'kay', 'bur', 'ley'], ['mi', 'li', 'band'], ['al', 'li', 'nit', 'together'], ['vote', 'u', 'kip'], ['jo', 'gon', 'j', 'i', 'm'], ['mi', 'li', 'band'], ['stumble', 'gate'], ['stumble', 'gate'], ['no', 'more', 'lies'], ['general', 'election'], ['ask', 'fa', 'rage'], ['n', 'otic', 'i', 'as'], ['mi', 'li', 'band'], ['bias', 'e', 'd', 'b', 'b', 'c'], ['chamal', 'ie', 'res'], ['chamal', 'ie', 'res'], ['d', 'avid', 'nag', 'hi'], ['bias', 'e', 'd', 'b', 'b', 'c'], ['mi', 'li', 'band'], ['social', 'security'], ['bias', 'e', 'd', 'b', 'b', 'c'], ['bias', 'e', 'd', 'b', 'b', 'c'], ['mi', 'li', 'fandom'], ['can', 'nab', 'is'], ['l', 'lane', 'l', 'li', 'husting', 's']]\n"
     ]
    }
   ],
   "source": [
    "# find the hashtags can be matched differently by two methods\n",
    "\n",
    "def forward_max_match(string):\n",
    "    length = len(string)\n",
    "    i = length\n",
    "    while i > 0:\n",
    "        lemma = lemmatizer.lemmatize(string[0:i])\n",
    "        if lemma in words:\n",
    "            matched = string[0:i]\n",
    "            rest = string[i:]\n",
    "            return (matched, rest)\n",
    "        i -= 1\n",
    "    return (string[0], string[1:])\n",
    "\n",
    "def average_token_length(hashtag):\n",
    "    total_length = 0\n",
    "    count = 0\n",
    "    for token in hashtag:\n",
    "        total_length += len(token)\n",
    "        count += 1\n",
    "    return total_length/count\n",
    "\n",
    "# get the list of tokenized hashtags \n",
    "max_forward_matched = []\n",
    "for word in hashtags:\n",
    "    tokenised = []\n",
    "    word = re.sub(\"[#]\", \"\", word).strip()\n",
    "    while len(word) > 0:\n",
    "        matched = forward_max_match(word)[0]\n",
    "        tokenised.append(matched)\n",
    "        rest = forward_max_match(word)[1]\n",
    "        word = rest\n",
    "    max_forward_matched.append(tokenised)\n",
    "\n",
    "# diff contains all the hashtags that can be tokenized differently\n",
    "diff = []\n",
    "optimal_match = []\n",
    "for i in range(len(max_forward_matched)):\n",
    "    forward = max_forward_matched[i]\n",
    "    reverse = max_reverse_matched[i]\n",
    "    reverse.reverse()\n",
    "    if forward != reverse:\n",
    "        # the optimal match is the one with larger average length\n",
    "        if average_token_length(forward) > average_token_length(reverse):\n",
    "            optimal_match.append(forward)\n",
    "        else:\n",
    "            optimal_match.append(reverse)\n",
    "        diff.append(hashtags[i])\n",
    "\n",
    "print(optimal_match)"
   ]
  },
  {
   "cell_type": "markdown",
   "metadata": {
    "deletable": true,
    "editable": true
   },
   "source": [
    "Demostation: For the problem above, I calculate the average length of tokens and compare them. If the average length by forward_MaxMatch is larger we would use forward way to match, while if the length by reverse_MaxMatch is larger, then we use the reverse way. The optimal results for those hashtags which can be tokenized differently by two method are shown as the output. (might take around 5 mins to run, please be patient.)"
   ]
  },
  {
   "cell_type": "markdown",
   "metadata": {
    "deletable": true,
    "editable": true
   },
   "source": [
    "# Text classification (Not Optional)"
   ]
  },
  {
   "cell_type": "markdown",
   "metadata": {
    "deletable": true,
    "editable": true
   },
   "source": [
    "<b>Instructions</b>: The twitter_sample corpus has two subcorpora corresponding to positive and negative tweets. You can access already tokenised versions using the <i> tokenized </i> method, as given in the code sample below. Iterate through these two corpora and build training, development, and test sets for use with Scikit-learn. You should exclude stopwords (from the built-in NLTK list) and tokens with non-alphabetic characters (this is very important you do this because emoticons were used to build the corpus, if you don't remove them performance will be artificially high). You should randomly split each subcorpus, using 80% of the tweets for training, 10% for development, and 10% for testing; make sure you do this <b>before</b> combining the tweets from the positive/negative subcorpora, so that the sets are <i>stratified</i>, i.e. the exact ratio of positive and negative tweets is preserved across the three sets. (1.0)"
   ]
  },
  {
   "cell_type": "code",
   "execution_count": 14,
   "metadata": {
    "collapsed": false,
    "deletable": true,
    "editable": true,
    "scrolled": false
   },
   "outputs": [
    {
     "name": "stdout",
     "output_type": "stream",
     "text": [
      "[nltk_data] Downloading package stopwords to\n",
      "[nltk_data]     C:\\Users\\msi\\AppData\\Roaming\\nltk_data...\n",
      "[nltk_data]   Package stopwords is already up-to-date!\n"
     ]
    }
   ],
   "source": [
    "positive_tweets = nltk.corpus.twitter_samples.tokenized(\"positive_tweets.json\")\n",
    "negative_tweets = nltk.corpus.twitter_samples.tokenized(\"negative_tweets.json\")\n",
    "\n",
    "pl = (len(positive_tweets))\n",
    "nl = (len(negative_tweets))\n",
    "\n",
    "training = []\n",
    "training_classification = []\n",
    "development = []\n",
    "development_classification = []\n",
    "testing = []\n",
    "testing_classification = []\n",
    "\n",
    "import random\n",
    "nltk.download(\"stopwords\")\n",
    "from nltk.corpus import stopwords\n",
    "stopwords = set(stopwords.words(\"english\"))\n",
    "\n",
    "# get positive tweets, for training set\n",
    "for i in range(int(pl*0.8)):\n",
    "    rand = random.randint(0, len(positive_tweets)-1)\n",
    "    tweet = positive_tweets.pop(rand)\n",
    "    tokenised = []\n",
    "    for token in tweet:\n",
    "        if token not in stopwords and re.match(\"^[A-Za-z]+$\", token):\n",
    "            tokenised.append(token)\n",
    "    training.append(tokenised)\n",
    "    training_classification.append(\"positive\")\n",
    "\n",
    "# get positive tweets, for development set\n",
    "for i in range(int(pl*0.1)):\n",
    "    rand = random.randint(0, len(positive_tweets)-1)\n",
    "    tweet = positive_tweets.pop(rand)\n",
    "    tokenised = []\n",
    "    for token in tweet:\n",
    "        if token not in stopwords and re.match(\"^[A-Za-z]+$\", token):\n",
    "            tokenised.append(token)\n",
    "    development.append(tokenised)\n",
    "    development_classification.append(\"positive\")\n",
    "\n",
    "# get positive tweets, for testing set\n",
    "for i in range(int(pl*0.1)):\n",
    "    rand = random.randint(0, len(positive_tweets)-1)\n",
    "    tweet = positive_tweets.pop(rand)\n",
    "    tokenised = []\n",
    "    for token in tweet:\n",
    "        if token not in stopwords and re.match(\"^[A-Za-z]+$\", token):\n",
    "            tokenised.append(token)\n",
    "    testing.append(tokenised)   \n",
    "    testing_classification.append(\"positive\")\n",
    "    \n",
    "# get negative tweets, for training set\n",
    "for i in range(int(nl*0.8)):\n",
    "    rand = random.randint(0, len(negative_tweets)-1)\n",
    "    tweet = negative_tweets.pop(rand)\n",
    "    tokenised = []\n",
    "    for token in tweet:\n",
    "        if token not in stopwords and re.match(\"^[A-Za-z]+$\", token):\n",
    "            tokenised.append(token)\n",
    "    training.append(tokenised)\n",
    "    training_classification.append(\"negative\")\n",
    "\n",
    "# get negative tweets, for development set\n",
    "for i in range(int(nl*0.1)):\n",
    "    rand = random.randint(0, len(negative_tweets)-1)\n",
    "    tweet = negative_tweets.pop(rand)\n",
    "    tokenised = []\n",
    "    for token in tweet:\n",
    "        if token not in stopwords and re.match(\"^[A-Za-z]+$\", token):\n",
    "            tokenised.append(token)\n",
    "    development.append(tokenised)\n",
    "    development_classification.append(\"negative\")\n",
    "    \n",
    "# get negative tweets, for testing set    \n",
    "for i in range(int(nl*0.1)):\n",
    "    rand = random.randint(0, len(negative_tweets)-1)\n",
    "    tweet = negative_tweets.pop(rand)\n",
    "    tokenised = []\n",
    "    for token in tweet:\n",
    "        if token not in stopwords and re.match(\"^[A-Za-z]+$\", token):\n",
    "            tokenised.append(token)\n",
    "    testing.append(tokenised)\n",
    "    testing_classification.append(\"negative\")\n"
   ]
  },
  {
   "cell_type": "markdown",
   "metadata": {
    "deletable": true,
    "editable": true
   },
   "source": [
    "<b>Instructions</b>: Now, let's build some classifiers. Here, we'll be comparing Naive Bayes and Logistic Regression. For each, you need to first find a good value for their main regularisation (hyper)parameters, which you should identify using the scikit-learn docs or other resources. Use the development set you created for this tuning process; do <b>not</b> use crossvalidation in the training set, or involve the test set in any way. You don't need to show all your work, but you do need to print out the accuracy with enough different settings to strongly suggest you have found an optimal or near-optimal choice. We should not need to look at your code to interpret the output. (1.0)"
   ]
  },
  {
   "cell_type": "code",
   "execution_count": 7,
   "metadata": {
    "collapsed": false,
    "deletable": true,
    "editable": true
   },
   "outputs": [],
   "source": [
    "from sklearn.naive_bayes import MultinomialNB\n",
    "from sklearn.linear_model import LogisticRegression\n",
    "from sklearn.feature_extraction import DictVectorizer\n",
    "from sklearn.metrics import accuracy_score, classification_report, f1_score\n",
    "vectorizer = DictVectorizer()\n",
    "nb_clf = MultinomialNB()\n",
    "lr_clf = LogisticRegression()\n",
    "\n",
    "# Get a bag of word from each tweet and count the word frequency\n",
    "def get_feature(tweet):\n",
    "    feature = {}\n",
    "    for token in tweet:\n",
    "        feature[token] = feature.get(token, 0) + 1\n",
    "    return feature\n",
    "\n",
    "# Feature_matrix is a list of dictionaries\n",
    "# Check whether the tweet contain words which exist in feature_matrix\n",
    "def match_feature(feature_matrix, tweet):\n",
    "    feature = {}\n",
    "    for token in tweet:\n",
    "        for dic in feature_matrix:\n",
    "            if token in dic.keys():\n",
    "                feature[token] = feature.get(token, 0) + 1\n",
    "                break\n",
    "    return feature\n",
    "        \n",
    "# Feature_matrix is a list of dictionaries\n",
    "feature_matrix = []\n",
    "# We only gather the words in training set as features, then create feature_matrix\n",
    "for tweet in training:\n",
    "    feature_dict = get_feature(tweet)\n",
    "    feature_matrix.append(feature_dict)\n",
    "\n",
    "# From development and testing set, find the word which exists in feature_matrix and count the number.\n",
    "dev_test_matrix = []\n",
    "for tweet in development + testing:\n",
    "    feature_dict = match_feature(feature_matrix ,tweet)\n",
    "    dev_test_matrix.append(feature_dict)\n",
    "\n",
    "# Convert the list of feature to a matrix dataset \n",
    "feature_matrix = feature_matrix + dev_test_matrix\n",
    "dataset = vectorizer.fit_transform(feature_matrix)\n",
    "dataset_length = dataset._shape[0]\n",
    "\n",
    "# for naive bayes: find the alpha which make the accuracy maxmized\n",
    "best_accuracy = 0\n",
    "best_alpha = 0.1\n",
    "\n",
    "# The settings of alpha are: 0.1, 0.2, 0.3, 0.4, 0.5, 0.6, \n",
    "# 0.7, 0.8, 0.9, 1, 2, 3, 4, 5, 6, 7, 8, 9\n",
    "for alpha_setting in [x*0.1 for x in range(1, 10)] + [x for x in range(1, 10)]:\n",
    "    nb_clf.set_params(alpha = alpha_setting)\n",
    "    nb_clf.fit(dataset[0 : dataset_length*0.8], training_classification)\n",
    "    predictions = nb_clf.predict(dataset[dataset_length*0.8 : dataset_length*0.9])\n",
    "    accuracy = accuracy_score(development_classification, predictions)\n",
    "    if accuracy > best_accuracy:\n",
    "        best_accuracy = accuracy\n",
    "        best_alpha = alpha_setting\n",
    "        \n",
    "# for LogisticRegression model: find the C which make the accuracy maxmized\n",
    "best_accuracy = 0\n",
    "best_C = 0.1\n",
    "\n",
    "# The settings of C are: 0.1, 0.2, 0.3, 0.4, 0.5, 0.6, \n",
    "# 0.7, 0.8, 0.9, 1, 2, 3, 4, 5, 6, 7, 8, 9\n",
    "for C_setting in [x*0.1 for x in range(1, 10)] + [x for x in range(1, 10)]:\n",
    "    lr_clf.set_params(C = C_setting)\n",
    "    lr_clf.fit(dataset[0 : dataset_length*0.8], training_classification)\n",
    "    predictions = lr_clf.predict(dataset[dataset_length*0.8 : dataset_length*0.9])\n",
    "    accuracy = accuracy_score(development_classification, predictions)\n",
    "    if accuracy > best_accuracy:\n",
    "        best_accuracy = accuracy\n",
    "        best_C = C_setting\n"
   ]
  },
  {
   "cell_type": "markdown",
   "metadata": {
    "deletable": true,
    "editable": true
   },
   "source": [
    "<b>Instructions</b>: Using the best settings you have found, compare the two classifiers based on performance in the test set. Print out both accuracy and macroaveraged f-score for each classifier. Be sure to label your output. (0.5)"
   ]
  },
  {
   "cell_type": "code",
   "execution_count": 8,
   "metadata": {
    "collapsed": false,
    "deletable": true,
    "editable": true
   },
   "outputs": [
    {
     "name": "stdout",
     "output_type": "stream",
     "text": [
      "Multinomial Naive Bayes\n",
      "\n",
      "accuracy: 0.737\n",
      "macroaveraged f_score: 0.73651281219\n",
      "\n",
      "\n",
      "Logistic Regression\n",
      "\n",
      "accuracy: 0.747\n",
      "macroaveraged f_score: 0.746866092163\n"
     ]
    }
   ],
   "source": [
    "nb_clf.set_params(alpha = best_alpha)\n",
    "nb_clf.fit(dataset[0 : dataset_length*0.8], training_classification)\n",
    "predictions = nb_clf.predict(dataset[dataset_length*0.9 : dataset_length])\n",
    "accuracy = accuracy_score(testing_classification, predictions)\n",
    "f_score = f1_score(testing_classification, predictions, average='macro')\n",
    "\n",
    "print(\"Multinomial Naive Bayes\\n\")\n",
    "print(\"accuracy: \" + str(accuracy))\n",
    "print(\"macroaveraged f_score: \" + str(f_score))\n",
    "\n",
    "print(\"\\n\")\n",
    "lr_clf.set_params(C = best_C)\n",
    "lr_clf.fit(dataset[0 : dataset_length*0.8], training_classification)\n",
    "predictions = lr_clf.predict(dataset[dataset_length*0.9 : dataset_length])\n",
    "accuracy = accuracy_score(testing_classification, predictions)\n",
    "f_score = f1_score(testing_classification, predictions, average='macro')\n",
    "\n",
    "print(\"Logistic Regression\\n\")\n",
    "print(\"accuracy: \" + str(accuracy))\n",
    "print(\"macroaveraged f_score: \" + str(f_score))"
   ]
  }
 ],
 "metadata": {
  "anaconda-cloud": {},
  "kernelspec": {
   "display_name": "Python 3",
   "language": "python",
   "name": "python3"
  },
  "language_info": {
   "codemirror_mode": {
    "name": "ipython",
    "version": 3
   },
   "file_extension": ".py",
   "mimetype": "text/x-python",
   "name": "python",
   "nbconvert_exporter": "python",
   "pygments_lexer": "ipython3",
   "version": "3.5.2"
  }
 },
 "nbformat": 4,
 "nbformat_minor": 1
}
