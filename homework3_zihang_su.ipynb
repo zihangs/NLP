{
 "cells": [
  {
   "cell_type": "markdown",
   "metadata": {
    "deletable": true,
    "editable": true
   },
   "source": [
    "# Homework 3: Twitter POS tagging"
   ]
  },
  {
   "cell_type": "markdown",
   "metadata": {
    "collapsed": true,
    "deletable": true,
    "editable": true
   },
   "source": [
    "Student Name: Zihang Su\n",
    "\n",
    "Student ID: 710118\n",
    "\n",
    "Python version used: python 3"
   ]
  },
  {
   "cell_type": "markdown",
   "metadata": {
    "deletable": true,
    "editable": true
   },
   "source": [
    "## General info"
   ]
  },
  {
   "cell_type": "markdown",
   "metadata": {
    "deletable": true,
    "editable": true
   },
   "source": [
    "<b>Due date</b>: 11pm, Sunday April 15\n",
    "\n",
    "<b>Submission method</b>: see LMS\n",
    "\n",
    "<b>Submission materials</b>: completed copy of this iPython notebook\n",
    "\n",
    "<b>Late submissions</b>: -20% per day\n",
    "\n",
    "<b>Marks</b>: 5% of mark for class\n",
    "\n",
    "<b>Overview</b>: In this homework, you'll be adapting a POS tagger to Twitter data, starting from a tagger trained on Penn Treebank. You will also use prior information on the Twitter tagset to obtain better performance. Finally, you will also analyse your results in a more fine-grained way. For extra credits, you will implement the Expectation-Maximisation algorithm.\n",
    "\n",
    "<b>Materials</b>: See the main class LMS page for information on the basic setup required for this class, including an iPython notebook viewer and the python packages NLTK, Numpy, Scipy, Matplotlib, Scikit-Learn, and Gensim. In particular, if you are not using a lab computer which already has it installed, we recommend installing all the data for NLTK, since you will need various parts of it to complete this assignment. You can also use any Python built-in packages, but do not use any other 3rd party packages; if your iPython notebook doesn't run on the marker's machine, you will lose marks.  \n",
    "\n",
    "<b>Evaluation</b>: Your iPython notebook should run end-to-end without any errors in a reasonable amount of time, and you must follow all instructions provided below, including specific implementation requirements and instructions for what needs to be printed (please avoid printing output we don't ask for). You should leave the output from running your code in the iPython notebook you submit, to assist with marking. The amount each section is worth is given in parenthesis after the instructions. You will be marked not only on the correctness of your methods, but also the quality and efficency of your code: in particular, you should be careful to use Python built-in functions and operators when appropriate and pick descriptive variable names that adhere to <a href=\"https://www.python.org/dev/peps/pep-0008/\">Python style requirements</a>. If you think it might be unclear what you are doing, you should comment your code to help the marker make sense of it.\n",
    "\n",
    "<b>Extra credit</b>: Each homework has a task which is optional with respect to getting full marks on the assignment, but that can be used to offset any points lost on this or any other homework assignment (but not the final project or the exam). We recommend you skip over this step on your first pass, and come back if you have time: the amount of effort required to receive full marks (1 point) on an extra credit question will be substantially more than earning the same amount of credit on other parts of the homework.\n",
    "\n",
    "<b>Updates</b>: Any major changes to the assignment will be announced via LMS. Minor changes and clarifications will be announced in the forum on LMS, we recommend you check the forum regularly.\n",
    "\n",
    "<b>Academic Misconduct</b>: For most people, collaboration will form a natural part of the undertaking of this homework, and we encourge you to discuss it in general terms with other students. However, this ultimately is still an individual task, and so reuse of code or other instances of clear influence will be considered cheating. We will be checking submissions for originality and will invoke the University’s <a href=\"http://academichonesty.unimelb.edu.au/policy.html\">Academic Misconduct policy</a> where inappropriate levels of collusion or plagiarism are deemed to have taken place.\n"
   ]
  },
  {
   "cell_type": "markdown",
   "metadata": {
    "deletable": true,
    "editable": true
   },
   "source": [
    "### Part 1: Preprocessing (2.0)"
   ]
  },
  {
   "cell_type": "markdown",
   "metadata": {
    "collapsed": true,
    "deletable": true,
    "editable": true
   },
   "source": [
    "<b>Instructions</b>: you first task is to preprocess the data. We will use two datasets for training: 1) the Penn Treebank sample used in the workshops and 2) the Twitter samples data you used in Homework 1. In order to adapt the tagger to the Twitter data we need to built a *joint* vocabulary containing all the word types in PTB and the twitter_samples corpora. So, in addition to preprocessing, your code should also build this vocabulary. Finally, you should also store the tagset, for reasons that will be clearer later.\n",
    "\n",
    "<b>Important</b>: you are allowed to reuse all the code from the workshop notebooks. In fact you are encouraged to do so as much of this homework will be based on these notebooks.\n",
    "\n",
    "The vocabulary and the tagset should be stored in Python dictionaries, mapping each word (or tag) to an index (integer). This is similar to what is done in the W6/W7 workshop notebooks. The preprocessed corpora should contain indices only, as in the workshop.\n",
    "\n",
    "Let's start with the PTB data. You should iterate over all sentences and words, and build the vocabulary and the tagset. Important: make sure you <b>lowercase</b> words before they are added to the dictionary. You should also generate the preprocessed corpus. It should be a list where each element is a tagged sentence, represented as another list of (word, tag) indices (which should correspond to the original words/tags). Print the first preprocessed sentence, the index for the word 'electricity' and the length of the full tagset. (0.5)\n"
   ]
  },
  {
   "cell_type": "code",
   "execution_count": 1,
   "metadata": {
    "collapsed": false,
    "deletable": true,
    "editable": true
   },
   "outputs": [
    {
     "name": "stdout",
     "output_type": "stream",
     "text": [
      "[(0, 0), (1, 0), (2, 1), (3, 2), (4, 3), (5, 4), (2, 1), (6, 5), (7, 6), (8, 7), (9, 8), (10, 9), (11, 7), (12, 4), (13, 8), (14, 0), (15, 2), (16, 10)]\n",
      "1095\n",
      "46\n"
     ]
    }
   ],
   "source": [
    "# notice: I re-use the code from W6 and W7\n",
    "\n",
    "from nltk.corpus import treebank\n",
    "corpus = treebank.tagged_sents()\n",
    "\n",
    "word_numbers = {}\n",
    "tag_numbers = {}\n",
    "\n",
    "num_corpus = []\n",
    "for sent in corpus:\n",
    "    num_sent = []\n",
    "    for word, tag in sent:\n",
    "        wi = word_numbers.setdefault(word.lower(), len(word_numbers))\n",
    "        ti = tag_numbers.setdefault(tag, len(tag_numbers))\n",
    "        num_sent.append((wi, ti))\n",
    "    num_corpus.append(num_sent)\n",
    "\n",
    "print(num_corpus[0])\n",
    "print(word_numbers['electricity'])\n",
    "print(len(tag_numbers))"
   ]
  },
  {
   "cell_type": "markdown",
   "metadata": {
    "deletable": true,
    "editable": true
   },
   "source": [
    "<b>Instructions</b>: now you should do the same with the twitter_samples dataset. From now on, we will refer this dataset as the **training** tweets. Since this data is not tagged, the preprocessed corpus should be a list where each element is another list containing indices only (instead of (word, tag) tuples). A tokenised version of twitter_samples is available through the method .tokenized(), use this method to read your corpus. Besides generating the corpus, you should also **update** the vocabulary with the new words from this corpus.\n",
    "\n",
    "There are two things to keep in mind when doing this process:\n",
    "\n",
    "1) We will perform a bit more of preprocessing in this dataset, besides lowercasing. Specifically, you should replace special tokens with special symbols, as follows:\n",
    "- Username mentions are tokens that start with '@': replace these tokens with 'USER_TOKEN'\n",
    "- Hashtags are tokens that start with '#': replace these with 'HASHTAG_TOKEN'\n",
    "- Retweets are represented as the token 'RT' (or 'rt' if you lowercase first): replace these with 'RETWEET_TOKEN'\n",
    "- URLs are tokens that start with 'https://' or 'http://': replace these with 'URL_TOKEN'\n",
    "\n",
    "2) **Do not create a new vocabulary**. Instead, you should update the vocabulary built from PTB with any new words present in this corpus. These should *include* the special tokens defined above but *not* the original un-preprocessed tokens.\n",
    "\n",
    "The easiest way to do these steps is by doing 3 passes over the data: preprocess the words first, update the vocabulary and finally convert the corpus into the list format described above. However, it is possible to do all of this in one pass only.\n",
    "\n",
    "Print the first sentence from your preprocessed corpora, the index for the word 'electricity' and the index for 'HASHTAG_TOKEN'. (0.5)"
   ]
  },
  {
   "cell_type": "code",
   "execution_count": 2,
   "metadata": {
    "collapsed": false,
    "deletable": true,
    "editable": true
   },
   "outputs": [
    {
     "name": "stdout",
     "output_type": "stream",
     "text": [
      "[11387, 182, 11388, 11389]\n",
      "1095\n",
      "11409\n"
     ]
    }
   ],
   "source": [
    "import re\n",
    "from nltk.corpus import twitter_samples\n",
    "tweets_corpus = twitter_samples.tokenized()\n",
    "\n",
    "encoded_tweets = []\n",
    "for sent in tweets_corpus:\n",
    "    encode = []\n",
    "    for word in sent:\n",
    "        word = word.lower()\n",
    "        if re.match(r'^@(.*)$', word):\n",
    "            word = 'USER_TOKEN'\n",
    "        if re.match(r'^#(.*)$', word):\n",
    "            word = 'HASHTAG_TOKEN'\n",
    "        if re.match(r'^rt$', word):\n",
    "            word = 'RETWEET_TOKEN'\n",
    "        if re.match(r'^https://(.*)$', word) or re.match(r'^http://(.*)$', word):\n",
    "            word = 'URL_TOKEN'\n",
    "        \n",
    "        # get the index of word if word in dict\n",
    "        # if word not in dict, automatically assign one more new item\n",
    "        word_index = word_numbers.setdefault(word, len(word_numbers))\n",
    "        encode.append(word_index)\n",
    "\n",
    "    encoded_tweets.append(encode)\n",
    "    \n",
    "print(encoded_tweets[0])\n",
    "print(word_numbers['electricity'])\n",
    "print(word_numbers['HASHTAG_TOKEN'])"
   ]
  },
  {
   "cell_type": "markdown",
   "metadata": {
    "deletable": true,
    "editable": true
   },
   "source": [
    "<b>Instructions:</b> now we will preprocess the tagged twitter corpus used in W7 (Ritter et al.). This dataset will be referred from now on as **test** tweets. Before you do that though, you should update the tagset.\n",
    "\n",
    "You might have noticed this in the workshop but this dataset has a few extra tags, besides the PTB ones. These were added to incorporate specific phenomena that happens on Twitter:\n",
    "- \"USR\": username mentions\n",
    "- \"HT\": hashtags\n",
    "- \"RT\": retweets\n",
    "- \"URL\": URL addresses\n",
    "\n",
    "Notice that these special tags correspond to the special tokens we preprocessed before. These steps will be important in Part 3 later.\n",
    "\n",
    "There a few additional tags which are not specific to Twitter but are not present in the PTB sample:\n",
    "- \"VPP\"\n",
    "- \"TD\"\n",
    "- \"O\"\n",
    "\n",
    "You should add these new seven tags to the tagset you built when reading the PTB corpus.\n",
    "\n",
    "Another task is to add an extra type to the vocabulary: `<unk>`. This is in order to account for unknown or out-of-vocabulary words.\n",
    "\n",
    "Finally, build two \"inverted indices\" for the vocabulary and the tagset. These should be lists, where the \"i\"-th element should contain the word (or tag) corresponding to the index \"i\" in the vocabulary (or tagset).\n",
    "\n",
    "After doing these tasks, print the index for `<unk>` and the length of your resulting tagset. (0.5)"
   ]
  },
  {
   "cell_type": "code",
   "execution_count": 3,
   "metadata": {
    "collapsed": false,
    "deletable": true,
    "editable": true
   },
   "outputs": [
    {
     "name": "stdout",
     "output_type": "stream",
     "text": [
      "26069\n",
      "53\n"
     ]
    }
   ],
   "source": [
    "tag_numbers.setdefault('USR', len(tag_numbers))\n",
    "tag_numbers.setdefault('HT', len(tag_numbers))\n",
    "tag_numbers.setdefault('RT', len(tag_numbers))\n",
    "tag_numbers.setdefault('URL', len(tag_numbers))\n",
    "tag_numbers.setdefault('VPP', len(tag_numbers))\n",
    "tag_numbers.setdefault('TD', len(tag_numbers))\n",
    "tag_numbers.setdefault('O', len(tag_numbers))\n",
    "word_numbers.setdefault('<unk>', len(word_numbers))\n",
    "\n",
    "word_names = [None] * len(word_numbers)\n",
    "for word, index in word_numbers.items():\n",
    "    word_names[index] = word\n",
    "tag_names = [None] * len(tag_numbers)\n",
    "for tag, index in tag_numbers.items():\n",
    "    tag_names[index] = tag\n",
    "    \n",
    "print(word_numbers['<unk>'])\n",
    "print(len(tag_names))"
   ]
  },
  {
   "cell_type": "markdown",
   "metadata": {
    "deletable": true,
    "editable": true
   },
   "source": [
    "<b>Instructions</b>: now we can read the test tweets. Store them in the same format as the PTB corpora (list of lists containing (word, tag) index tuples). Do the same preprocessing steps that you did for the training tweets (lowercasing + replace special tokens). However, **do not** update the vocabulary. Why? Because the test set should simulate a real-world scenario, where out-of-vocabulary words can appear. Instead, after preprocessing each word, you should check if that word is in the vocabulary. If yes, just replace it with its index, otherwise you should replace it with the index for the `<unk>` token. Remember: you can reuse the code from the workshop for this task. Just be mindful that in the workshop we stored words and tags in two separate lists: here you should have a single list, as in the PTB corpus you preprocessed above.\n",
    "\n",
    "When reading the POS tags for the test tweets you should do some additional preprocessing. There are three tags in this dataset which correspond to PTB tags but are represented with different names:\n",
    "- \"(\". In PTB, this is represented as \"-LRB-\"\n",
    "- \")\". In PTB, this is represented as \"-RRB-\"\n",
    "- \"NONE\". In PTB, this is represented as \"-NONE-\"\n",
    "\n",
    "As you build the corpus for the test tweets, you should check if the tag for a word is one of the above. If yes, you should use the PTB equivalent instead. In practice, it is sufficient to ensure you use the correct index for the corresponding tag, using your tagset dictionary. This concept is sometimes referred as *tag harmonisation*, where two different tagsets are mapped to each other.\n",
    "\n",
    "After this, print the first sentence of your preprocessed corpus. (0.5)"
   ]
  },
  {
   "cell_type": "code",
   "execution_count": 4,
   "metadata": {
    "collapsed": false,
    "deletable": true,
    "editable": true
   },
   "outputs": [
    {
     "name": "stdout",
     "output_type": "stream",
     "text": [
      "[(11392, 46), (61, 19), (114, 11), (8, 7), (3224, 8), (170, 9), (325, 33), (1325, 19), (2375, 22), (3205, 12), (182, 9), (799, 2), (1522, 3), (16, 10), (8490, 0), (1146, 0), (2495, 0), (14039, 43), (26069, 0), (16, 10), (4263, 17), (1760, 4), (9464, 8), (2259, 17), (888, 4), (741, 8), (16, 10)]\n"
     ]
    }
   ],
   "source": [
    "import urllib\n",
    "try:\n",
    "    urllib.request.urlretrieve(\"https://github.com/aritter/twitter_nlp/raw/master/data/annotated/pos.txt\",\"pos.txt\")\n",
    "except: # Python 2\n",
    "    urllib.urlretrieve(\"https://github.com/aritter/twitter_nlp/raw/master/data/annotated/pos.txt\",\"pos.txt\")\n",
    "\n",
    "test_tweets = []\n",
    "with open('pos.txt') as f:\n",
    "    sent = []\n",
    "    for line in f:\n",
    "        \n",
    "        # .strip() removes all whitespace at the start and end, including spaces, tabs, newlines and carriage returns\n",
    "        \n",
    "        if line.strip() == '':\n",
    "            test_tweets.append(sent)\n",
    "            sent = []\n",
    "        else:\n",
    "            word, pos = line.strip().split()\n",
    "            # preprocess the word\n",
    "            word = word.lower()\n",
    "            if re.match(r'^@(.*)$', word):\n",
    "                word = 'USER_TOKEN'\n",
    "            if re.match(r'^#(.*)$', word):\n",
    "                word = 'HASHTAG_TOKEN'\n",
    "            if re.match(r'^rt$', word):\n",
    "                word = 'RETWEET_TOKEN'\n",
    "            if re.match(r'^https://(.*)$', word) or re.match(r'^http://(.*)$', word):\n",
    "                word = 'URL_TOKEN'\n",
    "            \n",
    "            # preprocess the tag\n",
    "            if pos == '(':\n",
    "                pos = '-LRB-'\n",
    "            if pos == ')':\n",
    "                pos = '-RRB-'\n",
    "            if pos == 'NONE':\n",
    "                pos = '-NONE-'\n",
    "            \n",
    "            # encode word and tag\n",
    "            if word in word_names:\n",
    "                word = word_numbers[word]\n",
    "            else:\n",
    "                word = word_numbers['<unk>']   \n",
    "            pos = tag_numbers[pos]\n",
    "            \n",
    "            # append encoded tuple of (word, tag) into sentence\n",
    "            sent.append((word, pos))\n",
    "    \n",
    "print(test_tweets[0])"
   ]
  },
  {
   "cell_type": "markdown",
   "metadata": {
    "deletable": true,
    "editable": true
   },
   "source": [
    "<b>Hint</b>: if you did these steps correctly you should have 53 tags in your tagset and around 26000 words in your vocabulary."
   ]
  },
  {
   "cell_type": "markdown",
   "metadata": {
    "deletable": true,
    "editable": true
   },
   "source": [
    "### Part 2: Running the PTB tagger on the test tweets (1.5)"
   ]
  },
  {
   "cell_type": "markdown",
   "metadata": {
    "deletable": true,
    "editable": true
   },
   "source": [
    "<b>Instructions</b>: your next task is to train a POS tagger on the PTB data and try it on the test tweets. This is exactly what we did in W7: feel free to reuse code. However, we are also gonna modify the code a bit.\n",
    "\n",
    "Your first task is encapsulate the HMM training code into a function. You should name your function `count`. This function should take these input parameters:\n",
    "- A tagged corpus, in the format described above (list of lists containing (word, tag) index tuples).\n",
    "- The vocabulary (a dict).\n",
    "- The tagset (a dict).\n",
    "\n",
    "Output return values should contain:\n",
    "- The initial tag probabilities (a vector).\n",
    "- The transition probabilities (a matrix).\n",
    "- The emission probabilities (a matrix).\n",
    "\n",
    "Notice that in the workshop code the vocabulary and tagset were built as part of the training process. Here you should pass them explicitly as parameters instead. This is to ensure our tagger can take into account the words in the training tweets and the extra tags. Important: the workshop code initialise the probabilities with an `eps` value, to ensure you end up with non-zero probabilities for unseen events. You should do the same here.\n",
    "\n",
    "After writing your function, run it on the PTB corpus to obtain the initial, transition and emission probabilities. (0.5)"
   ]
  },
  {
   "cell_type": "code",
   "execution_count": 5,
   "metadata": {
    "collapsed": false,
    "deletable": true,
    "editable": true
   },
   "outputs": [],
   "source": [
    "import numpy as np\n",
    "\n",
    "def count(tagged_corpus, vocabulary, tagset):\n",
    "    S = len(tagset)\n",
    "    V = len(vocabulary)\n",
    "\n",
    "    # initalise\n",
    "    eps = 0.1\n",
    "    pi = eps * np.ones(S)\n",
    "    A = eps * np.ones((S, S))\n",
    "    O = eps * np.ones((S, V))\n",
    "\n",
    "    # count\n",
    "    for sent in tagged_corpus:\n",
    "        last_tag = None\n",
    "        for word, tag in sent:\n",
    "            O[tag, word] += 1\n",
    "            if last_tag == None:\n",
    "                pi[tag] += 1\n",
    "            else:\n",
    "                A[last_tag, tag] += 1\n",
    "            last_tag = tag\n",
    "        \n",
    "    # normalise\n",
    "    pi /= np.sum(pi)\n",
    "    for s in range(S):\n",
    "        O[s,:] /= np.sum(O[s,:])\n",
    "        A[s,:] /= np.sum(A[s,:])\n",
    "        \n",
    "    return pi, A, O\n",
    "\n",
    "initial, transition, emission = count(num_corpus, word_numbers, tag_numbers)"
   ]
  },
  {
   "cell_type": "markdown",
   "metadata": {
    "deletable": true,
    "editable": true
   },
   "source": [
    "<b>Instructions</b>: now you should write a function for Viterbi. The input parameters are the same as in the workshop:\n",
    "- The parameters (probabilities) of your HMM (a tuple (initial, transition, emission)).\n",
    "- The input words (a list with numbers).\n",
    "\n",
    "The output is slightly different though:\n",
    "- A list of (word, tag) indices, containing the original input word and the predicted tag.\n",
    "\n",
    "Run Viterbi on the test tweets and store the predictions in a list (might take a few seconds). Remember that in the processing part you stored the test tweets as (word, tag) indices lists: make sure your input to Viterbi are word index lists only. Print the first sentence of your predicted list. (0.5)"
   ]
  },
  {
   "cell_type": "code",
   "execution_count": 6,
   "metadata": {
    "collapsed": false,
    "deletable": true,
    "editable": true
   },
   "outputs": [
    {
     "name": "stdout",
     "output_type": "stream",
     "text": [
      "[(11392, 27), (61, 19), (114, 11), (8, 7), (3224, 8), (170, 9), (325, 33), (1325, 19), (2375, 22), (3205, 12), (182, 9), (799, 2), (1522, 3), (16, 10), (8490, 29), (1146, 8), (2495, 8), (14039, 10), (26069, 38), (16, 10), (4263, 29), (1760, 4), (9464, 8), (2259, 17), (888, 4), (741, 8), (16, 10)]\n"
     ]
    }
   ],
   "source": [
    "def viterbi(params, observations):\n",
    "    pi, A, O = params\n",
    "    M = len(observations)   # get number of input words\n",
    "    S = pi.shape[0]   # get number of tags\n",
    "    \n",
    "    alpha = np.zeros((M, S))\n",
    "    alpha[:,:] = float('-inf')\n",
    "    backpointers = np.zeros((M, S), 'int')\n",
    "    \n",
    "    # base case\n",
    "    alpha[0, :] = pi * O[:,observations[0]]      # transmition X emission\n",
    "    \n",
    "    # recursive case\n",
    "    for t in range(1, M):\n",
    "        for s2 in range(S):\n",
    "            for s1 in range(S):\n",
    "                score = alpha[t-1, s1] * A[s1, s2] * O[s2, observations[t]]\n",
    "                if score > alpha[t, s2]:\n",
    "                    alpha[t, s2] = score\n",
    "                    backpointers[t, s2] = s1\n",
    "    \n",
    "    # now follow backpointers to resolve the state sequence\n",
    "    reversed_pred_tags = []\n",
    "    # return the last word index and the tag index of the largest score (word_index, tag_index)\n",
    "    reversed_pred_tags.append((observations[-1], np.argmax(alpha[M-1,:]))) \n",
    "    for i in range(M-1, 0, -1):\n",
    "        reversed_pred_tags.append((observations[i-1], backpointers[i, reversed_pred_tags[-1][1]]))\n",
    "        \n",
    "    return list(reversed(reversed_pred_tags))\n",
    "\n",
    "# the test tweets:\n",
    "word_index_test_tweets = []\n",
    "for tweet in test_tweets:\n",
    "    word_index = []\n",
    "    for word, tag in tweet:\n",
    "        word_index.append(word)\n",
    "    word_index_test_tweets.append(word_index)\n",
    "\n",
    "# run viterbi on test tweets:\n",
    "pred_tags = []\n",
    "for tweet in word_index_test_tweets:\n",
    "    pred_tags.append(viterbi((initial, transition, emission), tweet))\n",
    "print(pred_tags[0])"
   ]
  },
  {
   "cell_type": "markdown",
   "metadata": {
    "deletable": true,
    "editable": true
   },
   "source": [
    "<b>Instructions</b>: you should now evaluate the results. Write a function that takes (word, tag) lists as inputs and outputs the tag sequence using the original tags in the tagset. Your inputs should be a sentence and the tag inverted index you built before.\n",
    "\n",
    "Run this function on the predictions you obtained above **and** the test tweets, storing them in two separate lists. Finally, flat your predictions into a single list and do the same for the test tweets and report accuracy. (0.5)"
   ]
  },
  {
   "cell_type": "code",
   "execution_count": 7,
   "metadata": {
    "collapsed": false,
    "deletable": true,
    "editable": true
   },
   "outputs": [
    {
     "name": "stdout",
     "output_type": "stream",
     "text": [
      "0.637141916365\n"
     ]
    }
   ],
   "source": [
    "from sklearn.metrics import accuracy_score\n",
    "\n",
    "def tag_sequence(encoded_tagged_sentence):\n",
    "    tags = []\n",
    "    for tup in encoded_tagged_sentence:\n",
    "        tag_index = tup[1]\n",
    "        tags.append(tag_names[tag_index])\n",
    "    return tags\n",
    "\n",
    "tags_of_predictions = []\n",
    "tags_of_test_tweets = []\n",
    "length = len(pred_tags)\n",
    "for i in range(length):\n",
    "    tags_of_predictions += tag_sequence(pred_tags[i])\n",
    "    tags_of_test_tweets += tag_sequence(test_tweets[i])\n",
    "\n",
    "print(accuracy_score(tags_of_test_tweets, tags_of_predictions))"
   ]
  },
  {
   "cell_type": "markdown",
   "metadata": {
    "deletable": true,
    "editable": true
   },
   "source": [
    "### Part 3: Adapting the tagger using prior information (1.5)"
   ]
  },
  {
   "cell_type": "markdown",
   "metadata": {
    "deletable": true,
    "editable": true
   },
   "source": [
    "<b>Instructions</b>: now your task is to adapt the tagger using prior information. What do we mean by that? Remember from part 1 that the twitter tagset has some extra tags, related to special tokens such as mentions and hashtags. In other words, **we know beforehand** that these special tokens **should** have these tags. However, because these tags never appear in the PTB data, the tagger has no such information. We are going to add this in order to improve the tagger.\n",
    "\n",
    "To recap, we know these things about the twitter data:\n",
    "- username mentions should have the tag 'USR'\n",
    "- hashtags should have the tag 'HT'\n",
    "- retweet tokens should have the tag 'RT'\n",
    "- URL tokens should have the tag 'URL'\n",
    "\n",
    "Remember how we replace these tokens with unique special ones (such as 'USER_TOKEN')? Your task is to adapt the emission probabilities for these tokens. Modify the emission matrix: assign 1.0 probability for the emission P('USER_TOKEN'|'USR') and 0.0 for P(word|'USR') for all other words. Do the same for the other three special tags.\n",
    "\n",
    "In order to do that, you should use the vocabulary and tagset dictionaries in order to obtain the indices for the corresponding words and tags. Then, use the indices to find the values in the emission matrix and modify them. Print your new emission matrix. (0.5)"
   ]
  },
  {
   "cell_type": "code",
   "execution_count": 8,
   "metadata": {
    "collapsed": false,
    "deletable": true,
    "editable": true
   },
   "outputs": [
    {
     "name": "stdout",
     "output_type": "stream",
     "text": [
      "[[  9.15369893e-05   1.74752434e-04   8.32154448e-06 ...,   8.32154448e-06\n",
      "    8.32154448e-06   8.32154448e-06]\n",
      " [  1.33457894e-05   1.33457894e-05   6.51955158e-01 ...,   1.33457894e-05\n",
      "    1.33457894e-05   1.33457894e-05]\n",
      " [  1.62522347e-05   1.62522347e-05   1.62522347e-05 ...,   1.62522347e-05\n",
      "    1.62522347e-05   1.62522347e-05]\n",
      " ..., \n",
      " [  3.83582662e-05   3.83582662e-05   3.83582662e-05 ...,   3.83582662e-05\n",
      "    3.83582662e-05   3.83582662e-05]\n",
      " [  3.83582662e-05   3.83582662e-05   3.83582662e-05 ...,   3.83582662e-05\n",
      "    3.83582662e-05   3.83582662e-05]\n",
      " [  3.83582662e-05   3.83582662e-05   3.83582662e-05 ...,   3.83582662e-05\n",
      "    3.83582662e-05   3.83582662e-05]]\n"
     ]
    }
   ],
   "source": [
    "def adapt(emission):\n",
    "    index_USR = tag_numbers['USR']\n",
    "    index_HT = tag_numbers['HT']\n",
    "    index_RT = tag_numbers['RT']\n",
    "    index_URL = tag_numbers['URL']\n",
    "\n",
    "    for i in range(len(word_names)):\n",
    "        if word_names[i] == 'USER_TOKEN':\n",
    "            emission[index_USR][i] = 1.0\n",
    "        else:\n",
    "            emission[index_USR][i] = 0.0\n",
    "        \n",
    "        if word_names[i] == 'HASHTAG_TOKEN':\n",
    "            emission[index_HT][i] = 1.0\n",
    "        else:\n",
    "            emission[index_HT][i] = 0.0\n",
    "        \n",
    "        if word_names[i] == 'RETWEET_TOKEN':\n",
    "            emission[index_RT][i] = 1.0\n",
    "        else:\n",
    "            emission[index_RT][i] = 0.0\n",
    "        \n",
    "        if word_names[i] == 'URL_TOKEN':\n",
    "            emission[index_URL][i] = 1.0\n",
    "        else:\n",
    "            emission[index_URL][i] = 0.0\n",
    "            \n",
    "    return emission\n",
    "\n",
    "emission = adapt(emission)\n",
    "\n",
    "\n",
    "print(emission)"
   ]
  },
  {
   "cell_type": "markdown",
   "metadata": {
    "deletable": true,
    "editable": true
   },
   "source": [
    "<b>Instructions</b>: now evaluate your new tagger on the test tweets again. You should report accuracy but also do a fine-grained error analysis. Print the F-scores for **each tag**. <b>Hint:</b> use the \"classification_report\" function in scikit-learn for that. You should report the tags that performed the best and the worse. (0.5) "
   ]
  },
  {
   "cell_type": "code",
   "execution_count": 9,
   "metadata": {
    "collapsed": false,
    "deletable": true,
    "editable": true
   },
   "outputs": [
    {
     "name": "stdout",
     "output_type": "stream",
     "text": [
      "accuracy:\n",
      "0.695093842608\n",
      "best:\n",
      "['RT']\n",
      "worst:\n",
      "['-NONE-', '``', '$', 'NNPS', 'WP$', '-LRB-', 'PDT', 'FW', 'SYM', 'LS', '#', 'VPP', 'TD', 'O']\n",
      "\n",
      "\n",
      "\n",
      "             precision    recall  f1-score   support\n",
      "\n",
      "          #       0.00      0.00      0.00         0\n",
      "          $       0.00      0.00      0.00         0\n",
      "         ''       0.03      0.20      0.06        91\n",
      "          ,       0.85      1.00      0.92       303\n",
      "      -LRB-       0.00      0.00      0.00        32\n",
      "     -NONE-       0.00      0.00      0.00         2\n",
      "      -RRB-       0.04      0.15      0.07        34\n",
      "          .       0.72      0.83      0.77       875\n",
      "          :       0.97      0.76      0.85       562\n",
      "         CC       0.96      0.88      0.92       305\n",
      "         CD       0.59      0.59      0.59       268\n",
      "         DT       0.74      0.93      0.82       825\n",
      "         EX       0.38      0.80      0.52        10\n",
      "         FW       0.00      0.00      0.00         3\n",
      "         HT       0.98      0.98      0.98       135\n",
      "         IN       0.81      0.88      0.85      1091\n",
      "         JJ       0.64      0.59      0.61       670\n",
      "        JJR       0.48      0.74      0.58        31\n",
      "        JJS       0.84      0.81      0.82        26\n",
      "         LS       0.00      0.00      0.00         1\n",
      "         MD       0.53      0.97      0.69       181\n",
      "         NN       0.79      0.63      0.70      1931\n",
      "        NNP       0.60      0.27      0.37      1159\n",
      "       NNPS       0.00      0.00      0.00         8\n",
      "        NNS       0.43      0.54      0.48       393\n",
      "          O       0.00      0.00      0.00         1\n",
      "        PDT       0.00      0.00      0.00         1\n",
      "        POS       0.39      0.78      0.52        36\n",
      "        PRP       0.86      0.82      0.84      1106\n",
      "       PRP$       0.84      0.86      0.85       234\n",
      "         RB       0.71      0.76      0.73       680\n",
      "        RBR       0.62      0.25      0.36        20\n",
      "        RBS       0.08      0.33      0.12         3\n",
      "         RP       0.64      0.45      0.53       110\n",
      "         RT       1.00      1.00      1.00       152\n",
      "        SYM       0.00      0.00      0.00        13\n",
      "         TD       0.00      0.00      0.00         1\n",
      "         TO       0.84      0.96      0.90       264\n",
      "         UH       1.00      0.00      0.00       493\n",
      "        URL       0.99      0.90      0.95       183\n",
      "        USR       0.98      0.96      0.97       464\n",
      "         VB       0.65      0.70      0.68       660\n",
      "        VBD       0.77      0.74      0.75       306\n",
      "        VBG       0.88      0.50      0.64       303\n",
      "        VBN       0.43      0.63      0.51       140\n",
      "        VBP       0.78      0.64      0.70       527\n",
      "        VBZ       0.69      0.78      0.73       342\n",
      "        VPP       0.00      0.00      0.00         1\n",
      "        WDT       0.36      0.47      0.41        19\n",
      "         WP       0.97      0.74      0.84        47\n",
      "        WP$       0.00      0.00      0.00         0\n",
      "        WRB       1.00      0.81      0.90       143\n",
      "         ``       0.00      0.00      0.00         0\n",
      "\n",
      "avg / total       0.76      0.70      0.70     15185\n",
      "\n"
     ]
    },
    {
     "name": "stderr",
     "output_type": "stream",
     "text": [
      "C:\\Users\\msi\\AppData\\Local\\Enthought\\Canopy\\edm\\envs\\User\\lib\\site-packages\\sklearn\\metrics\\classification.py:1135: UndefinedMetricWarning: Precision and F-score are ill-defined and being set to 0.0 in labels with no predicted samples.\n",
      "  'precision', 'predicted', average, warn_for)\n",
      "C:\\Users\\msi\\AppData\\Local\\Enthought\\Canopy\\edm\\envs\\User\\lib\\site-packages\\sklearn\\metrics\\classification.py:1137: UndefinedMetricWarning: Recall and F-score are ill-defined and being set to 0.0 in labels with no true samples.\n",
      "  'recall', 'true', average, warn_for)\n"
     ]
    }
   ],
   "source": [
    "from sklearn.metrics import accuracy_score, classification_report, f1_score, precision_recall_fscore_support\n",
    "\n",
    "adapted_pred_tags = []\n",
    "for tweet in word_index_test_tweets:\n",
    "    adapted_pred_tags.append(viterbi((initial, transition, emission), tweet))\n",
    "\n",
    "adapted_tags_of_predictions = []\n",
    "length = len(adapted_pred_tags)\n",
    "for i in range(length):\n",
    "    adapted_tags_of_predictions += tag_sequence(adapted_pred_tags[i])\n",
    "\n",
    "print('accuracy:')\n",
    "print(accuracy_score(tags_of_test_tweets, adapted_tags_of_predictions))\n",
    "\n",
    "_, _, f, _ = precision_recall_fscore_support(tags_of_test_tweets, adapted_tags_of_predictions, labels = tag_names)\n",
    "\n",
    "worst_tags = []\n",
    "best_tags = []\n",
    "worst_score = 1\n",
    "best_score = 0\n",
    "for i in range(len(tag_names)):\n",
    "    if f[i] > best_score:\n",
    "        best_score = f[i]\n",
    "        best_tags = [tag_names[i]]\n",
    "    elif f[i] == best_score:\n",
    "        best_score = f[i]\n",
    "        best_tags.append(tag_names[i])\n",
    "        \n",
    "    if f[i] < worst_score:\n",
    "        worst_score = f[i]\n",
    "        worst_tags = [tag_names[i]]\n",
    "    elif f[i] == worst_score:\n",
    "        worst_score = f[i]\n",
    "        worst_tags.append(tag_names[i])\n",
    "\n",
    "print('best:')\n",
    "print(best_tags)\n",
    "print('worst:')\n",
    "print(worst_tags)\n",
    "print('\\n\\n')\n",
    "print(classification_report(tags_of_test_tweets, adapted_tags_of_predictions))\n"
   ]
  },
  {
   "cell_type": "markdown",
   "metadata": {
    "deletable": true,
    "editable": true
   },
   "source": [
    "<b>Instructions</b>: finally, based on the information you got above, do some analysis. Why do you think the tagger performed worse on the tags you mentioned above? How would you improve the tagger? Feel free to inspect some instances manually if you want (and show us if you do). Write your analysis in the markdown cell below. Notice that this question is inherently subjective: this is on purpose as you will be evaluated on your analytical abilities. But don't worry about going into depth: 2-4 sentences is enough (but feel free to write more if you need). (0.5)\n",
    "    "
   ]
  },
  {
   "cell_type": "markdown",
   "metadata": {
    "deletable": true,
    "editable": true
   },
   "source": [
    "<b>WRITE YOUR ANALYSIS HERE: </b>\n",
    "The training set is Penn Treebank which is a small set, and many words or tags distribution patterns in tweets might not occur in PTB. Therefore, only using PTB as a training set to predict tweets is not good enough. A better way is to use a larger set of training data. Hence, we could use the PTB to build our initial, transition and emission matrices as a starting point, then we could apply unsuperivsed learning on a untagged tweets set. The results might get better."
   ]
  },
  {
   "cell_type": "markdown",
   "metadata": {
    "deletable": true,
    "editable": true
   },
   "source": [
    "### Extra credits 1: Expectation-Maximisation (1.0)"
   ]
  },
  {
   "cell_type": "markdown",
   "metadata": {
    "deletable": true,
    "editable": true
   },
   "source": [
    "<b>Instructions</b>: here your goal is to improve the tagger using **hard EM**. This question is divided in two parts. Because EM can take a long time to run we will modify our code above to make it faster and also more robust to underflow by making calculations in the log space.\n",
    "\n",
    "Your first task is to modify the `count` and `viterbi` functions. For `count`, you should return log probabilities for all matrices. For `viterbi`, you should modify the code in the following way:\n",
    "- Calculate scores using log probabilities. Remember that in log space, any products become sums. Also remember to make sure you change the base case as well (not only the inner loop).\n",
    "- You should rewrite the algorithm in vectorised form, in order to make it more efficient. Remember that in Viterbi, the third (inner) `for` loop calculate scores for a single cell, while the second `for` loop calculates scores for a whole column. These operations can be made in parallel, which makes them amenable to vectorisation. Replace the second and third `for` loops in the code with appropriate vector and matrix operations. Remember to do the same to obtain the backpointers. <b>Hint</b>: start by vectorising the inner loop only and check if it is correct.\n",
    "\n",
    "The second task is to implement EM. This can be done without the first step above but bear in mind that it will take much longer to run. Write a function that:\n",
    "\n",
    "- 1) Tag a corpus using Viterbi and an initial tagger\n",
    "- 2) Train a new tagger using the tagged corpora obtained above.\n",
    "- 3) Repeat both steps above N times.\n",
    "\n",
    "If you've done the main homework correctly you should be able to reuse the `count` and `viterbi` functions for this and the code should be very straightforward. You should pretrain your tagger using the steps in the main homework, including the tag adaptation in Part 3. Then, in the inner loop, use the training tweets as your unlabelled corpora. Run 5 iterations of EM and report test accuracy **at every iteration**.\n",
    "\n",
    "EM can take a long time to train, even if you're using the vectorised Viterbi code. If it is too slow in your machine, you're allowed to use a subset of the training tweets for this task.\n",
    "\n",
    "To get full marks, adapt the algorithm in the following manner:\n",
    "- At step 2) above, when training the new tagger, combine **both** the PTB gold data and the tagged training tweets, instead of just using the training tweets.\n",
    "\n",
    "This is an easy trick to obtain better results (and it is essentially **semi-supervised** learning)."
   ]
  },
  {
   "cell_type": "code",
   "execution_count": 10,
   "metadata": {
    "collapsed": false,
    "deletable": true,
    "editable": true
   },
   "outputs": [],
   "source": [
    "# load these functions used by both soft EM and hard EM\n",
    "import numpy as np\n",
    "\n",
    "def log_count(tagged_corpus, vocabulary, tagset):\n",
    "    S = len(tagset)\n",
    "    V = len(vocabulary)\n",
    "\n",
    "    # initalise\n",
    "    eps = 0.1\n",
    "    pi = eps * np.ones(S)\n",
    "    A = eps * np.ones((S, S))\n",
    "    O = eps * np.ones((S, V))\n",
    "\n",
    "    # count\n",
    "    for sent in tagged_corpus:\n",
    "        last_tag = None\n",
    "        for word, tag in sent:\n",
    "            O[tag, word] += 1\n",
    "            if last_tag == None:\n",
    "                pi[tag] += 1\n",
    "            else:\n",
    "                A[last_tag, tag] += 1\n",
    "            last_tag = tag\n",
    "        \n",
    "    # normalise\n",
    "    pi /= np.sum(pi)\n",
    "    for s in range(S):\n",
    "        O[s,:] /= np.sum(O[s,:])\n",
    "        A[s,:] /= np.sum(A[s,:])\n",
    "        \n",
    "    return np.log(pi), np.log(A), np.log(O)\n",
    "\n",
    "def log_adapt(log_emission):\n",
    "    index_USR = tag_numbers['USR']\n",
    "    index_HT = tag_numbers['HT']\n",
    "    index_RT = tag_numbers['RT']\n",
    "    index_URL = tag_numbers['URL']\n",
    "\n",
    "    for i in range(len(word_names)):\n",
    "        if word_names[i] == 'USER_TOKEN':\n",
    "            log_emission[index_USR][i] = 0\n",
    "        else:\n",
    "            log_emission[index_USR][i] = float('-inf')\n",
    "        \n",
    "        if word_names[i] == 'HASHTAG_TOKEN':\n",
    "            log_emission[index_HT][i] = 0\n",
    "        else:\n",
    "            log_emission[index_HT][i] = float('-inf')\n",
    "        \n",
    "        if word_names[i] == 'RETWEET_TOKEN':\n",
    "            log_emission[index_RT][i] = 0\n",
    "        else:\n",
    "            log_emission[index_RT][i] = float('-inf')\n",
    "        \n",
    "        if word_names[i] == 'URL_TOKEN':\n",
    "            log_emission[index_URL][i] = 0\n",
    "        else:\n",
    "            log_emission[index_URL][i] = float('-inf')\n",
    "            \n",
    "    return log_emission\n",
    "\n",
    "def log_viterbi(params, observations):\n",
    "    pi, A, O = params\n",
    "    M = len(observations)   # get number of input words\n",
    "    S = pi.shape[0]         # get number of tags\n",
    "    \n",
    "    alpha = np.zeros((M, S))\n",
    "    alpha[:,:] = float('-inf')\n",
    "    backpointers = np.zeros((M, S), 'int')\n",
    "    \n",
    "    # base case\n",
    "    alpha[0, :] = pi + O[:,observations[0]]      # transmition X emission\n",
    "    \n",
    "    for t in range(1, M):\n",
    "        matrix_alpha = np.multiply(np.ones((S, 1)), alpha[t-1, :]).T\n",
    "        matrix_O = np.multiply(np.ones((S, 1)), O[:, observations[t]].T)\n",
    "        scores = matrix_alpha + A + matrix_O  # a S by S matrix\n",
    "        \n",
    "        score_max = np.max(scores, axis = 0)\n",
    "        indices = np.argmax(scores, axis = 0)\n",
    "        alpha[t, :] = score_max\n",
    "        backpointers[t, :] = indices\n",
    "    \n",
    "    # now follow backpointers to resolve the state sequence\n",
    "    reversed_pred_tags = []\n",
    "    # return the last word index and the tag index of the largest score (word_index, tag_index)\n",
    "    reversed_pred_tags.append((observations[-1], np.argmax(alpha[M-1,:])))\n",
    "    for i in range(M-1, 0, -1):\n",
    "        reversed_pred_tags.append((observations[i-1], backpointers[i, reversed_pred_tags[-1][1]]))\n",
    "        \n",
    "    return list(reversed(reversed_pred_tags))"
   ]
  },
  {
   "cell_type": "code",
   "execution_count": 11,
   "metadata": {
    "collapsed": false,
    "deletable": true,
    "editable": true
   },
   "outputs": [
    {
     "name": "stdout",
     "output_type": "stream",
     "text": [
      "0.701020744155\n",
      "0.70082318077\n",
      "0.699637800461\n",
      "0.695554823839\n",
      "0.690549884755\n"
     ]
    }
   ],
   "source": [
    "# hard EM:\n",
    "\n",
    "log_initial, log_transition, log_emission = log_count(num_corpus, word_numbers, tag_numbers)\n",
    "# adapt emission\n",
    "log_emission = log_adapt(log_emission)\n",
    "\n",
    "length_training_set = len(encoded_tweets)\n",
    "training_set = encoded_tweets\n",
    "\n",
    "iteration = 5\n",
    "for i in range(iteration):\n",
    "    \n",
    "    tagged_training_set = []\n",
    "    for tweet in training_set:\n",
    "        tagged_training_set.append(log_viterbi((log_initial, log_transition, log_emission), tweet))\n",
    "    \n",
    "    corpus =  num_corpus + tagged_training_set\n",
    "    log_initial, log_transition, log_emission = log_count(corpus, word_numbers, tag_numbers)\n",
    "    \n",
    "    # adapt emission\n",
    "    log_emission = log_adapt(log_emission)\n",
    "    \n",
    "    prediction = []\n",
    "    original = []\n",
    "    \n",
    "    for sent in test_tweets:\n",
    "        word_index = []\n",
    "        for word, tag in sent:\n",
    "            original.append(tag)\n",
    "            word_index.append(word)\n",
    "        prediction_sent = log_viterbi((log_initial, log_transition, log_emission), word_index)\n",
    "        for word, tag in prediction_sent:\n",
    "            prediction.append(tag)\n",
    "    \n",
    "    print(accuracy_score(original, prediction))"
   ]
  },
  {
   "cell_type": "markdown",
   "metadata": {
    "deletable": true,
    "editable": true
   },
   "source": [
    "### Extra credits 2: Soft EM using Forward-Backward (1.0)"
   ]
  },
  {
   "cell_type": "markdown",
   "metadata": {
    "deletable": true,
    "editable": true
   },
   "source": [
    "<b>Instructions</b>: This is only for the truly intrepid: expect a substantial amount of work to get full marks in this. The goal is to perform **soft EM** using the Forward-Backward algorithm and expected counts. You will need to implement and adapt a set of functions for this task:\n",
    "- The `count` method, which will still be used for pretraining, needs to also calculate **final** probabilities and return these as part of the output. These are never used in Viterbi but are essential for Forward-Backward.\n",
    "- Implement the `forward` function. If you want to work in log space you should be careful because it requires summing probabilities. Hint: check the Scipy function `logsumexp` for that. Remember: the algorithm is very similar to Viterbi so feel free to use it as a starting point. The function should return the matrix with the alpha values and the marginal probability for the sentence.\n",
    "- Implement the `backward` function. This should return a matrix with the beta values and the marginal. Remember the very useful sanity check: for the same sentence and tagger, the marginals returned from `forward` and `backward` should match.\n",
    "- Implement the `expected_count` function, which is similar to `count` in the sense that it trains a tagger and output new parameters. However, it should have the alpha and beta matrices as inputs, as well as the marginals.\n",
    "\n",
    "After implementing all of this, rerun EM using the soft approach and evaluate it in a similar way as done in Extra credits 1.\n"
   ]
  },
  {
   "cell_type": "code",
   "execution_count": 12,
   "metadata": {
    "collapsed": false,
    "deletable": true,
    "editable": true
   },
   "outputs": [],
   "source": [
    "# load these 4 functions used by soft EM\n",
    "from scipy.misc import logsumexp\n",
    "\n",
    "def log_count_new(tagged_corpus, vocabulary, tagset):\n",
    "    S = len(tagset)\n",
    "    V = len(vocabulary)\n",
    "\n",
    "    # initalise\n",
    "    eps = 0.1\n",
    "    pi = eps * np.ones(S)\n",
    "    A = eps * np.ones((S, S))\n",
    "    O = eps * np.ones((S, V))\n",
    "    end = eps * np.ones(S)\n",
    "\n",
    "    # count\n",
    "    for sent in tagged_corpus:\n",
    "        last_tag = None\n",
    "        # tag = None\n",
    "        for word, tag in sent:\n",
    "            O[tag, word] += 1\n",
    "            if last_tag == None:\n",
    "                pi[tag] += 1\n",
    "            else:\n",
    "                A[last_tag, tag] += 1\n",
    "            last_tag = tag\n",
    "        end[tag] += 1\n",
    "        \n",
    "    # normalise\n",
    "    pi /= np.sum(pi)\n",
    "    end /= np.sum(end)\n",
    "    for s in range(S):\n",
    "        O[s,:] /= np.sum(O[s,:])\n",
    "        A[s,:] /= np.sum(A[s,:])\n",
    "        \n",
    "    return np.log(pi), np.log(A), np.log(O), np.log(end)\n",
    "\n",
    "# forward algorithm (in log space):\n",
    "def log_forward(params, observations):\n",
    "    pi, A, O, end= params\n",
    "    M = len(observations)   # get number of input words\n",
    "    S = pi.shape[0]         # get number of tags\n",
    "    \n",
    "    alpha = np.zeros((M, S))\n",
    "    alpha[:,:] = float(0.0)\n",
    "    \n",
    "    # base case\n",
    "    alpha[0, :] = pi + O[:,observations[0]]      # transition X emission\n",
    "    \n",
    "    for t in range(1, M):\n",
    "        matrix_alpha = np.multiply(np.ones((S, 1)), alpha[t-1, :]).T\n",
    "        matrix_O = np.multiply(np.ones((S, 1)), O[:, observations[t]].T)\n",
    "        scores = matrix_alpha + A + matrix_O  # a S by S matrix\n",
    "        \n",
    "        # sum prob, take off the log first then sum, finally get log score again\n",
    "        prob_sum = logsumexp(scores, axis = 0)\n",
    "        alpha[t, :] = prob_sum\n",
    "        \n",
    "    marginal_probability = logsumexp(alpha[-1, :] + end)     \n",
    "    return alpha, marginal_probability\n",
    "\n",
    "\n",
    "def log_backward(params, observations):\n",
    "    pi, A, O, end= params\n",
    "    M = len(observations)   # get number of input words\n",
    "    S = pi.shape[0]   # get number of tags\n",
    "    \n",
    "    beta = np.zeros((M, S))\n",
    "    beta[:,:] = float(0.0)\n",
    "    \n",
    "    # base case\n",
    "    beta[-1, :] = end      # transmition X emission\n",
    "    for t in range(M-2, -1, -1):\n",
    "        matrix_beta = np.multiply(np.ones((S, 1)), beta[t+1, :])\n",
    "        matrix_O = np.multiply(np.ones((S, 1)), O[:, observations[t+1]].T)\n",
    "        scores = matrix_beta + A + matrix_O  # a S by S matrix\n",
    "        \n",
    "        # sum prob, take off the log first then sum, finally get log score again\n",
    "        prob_sum = logsumexp(scores, axis = 1)\n",
    "        beta[t, :] = prob_sum\n",
    "    \n",
    "    marginal_probability = logsumexp(beta[0, :] + pi + O[:, observations[0]])\n",
    "    return beta, marginal_probability\n",
    "\n",
    "def log_expected_count(tagged_corpus, vocabulary, tagset, prev_start, prev_transition, prev_emission, prev_end):\n",
    "    S = len(tagset)\n",
    "    V = len(vocabulary)\n",
    "    \n",
    "    eps = 0.1\n",
    "    start = np.log(eps * np.ones(S))\n",
    "    transition = np.log(eps * np.ones((S, S)))\n",
    "    emission = np.log(eps * np.ones((S, V)))\n",
    "    end = np.log(eps * np.ones(S))\n",
    "            \n",
    "    for sent in tagged_corpus:\n",
    "        last_tag = None\n",
    "        \n",
    "        word_only = []\n",
    "        for w in sent:\n",
    "            word_only.append(w[0])\n",
    "\n",
    "        beta, marginal = log_backward((prev_start, prev_transition, prev_emission, prev_end), word_only)\n",
    "        alpha, marginal = log_forward((prev_start, prev_transition, prev_emission, prev_end), word_only)\n",
    "        for i in range(len(sent)):\n",
    "            word = sent[i][0]\n",
    "            tag = sent[i][1]\n",
    "            p_word_tag = alpha[i, tag] + beta[i, tag] - marginal\n",
    "            emission[tag, word] = logsumexp([emission[tag, word], p_word_tag])\n",
    "            \n",
    "            if last_tag == None:\n",
    "                start[tag] += 0   # log(1) = 0\n",
    "            else:\n",
    "                epsilon = alpha[i, last_tag] + prev_transition[last_tag, tag] + prev_emission[tag, i] + beta[i, tag] - marginal\n",
    "                transition[last_tag, tag] = logsumexp([transition[last_tag, tag], epsilon])\n",
    "            last_tag = tag\n",
    "        end[tag] += 0    # log(1) = 0\n",
    "    \n",
    "    # normalise\n",
    "    start -= logsumexp(start)\n",
    "    end -= logsumexp(end)\n",
    "    for s in range(S):\n",
    "        emission[s,:] -= logsumexp(emission[s,:])\n",
    "        transition[s,:] -= logsumexp(transition[s,:])\n",
    "            \n",
    "    return prev_start, transition, emission, prev_end"
   ]
  },
  {
   "cell_type": "code",
   "execution_count": 13,
   "metadata": {
    "collapsed": false,
    "deletable": true,
    "editable": true
   },
   "outputs": [
    {
     "name": "stdout",
     "output_type": "stream",
     "text": [
      "0.624234441883\n",
      "0.61969048403\n",
      "0.61646361541\n",
      "0.613368455713\n",
      "0.612644056635\n"
     ]
    }
   ],
   "source": [
    "# soft EM: this block of code take very long time to run (about 15 mins)\n",
    "\n",
    "a, b, c, d = log_count_new(num_corpus, word_numbers, tag_numbers)\n",
    "a, b, c, d = log_expected_count(num_corpus, word_numbers, tag_numbers, a, b, c, d)\n",
    "# adapt emission\n",
    "log_emission = log_adapt(log_emission)\n",
    "\n",
    "length_training_set = len(encoded_tweets)\n",
    "training_set = encoded_tweets\n",
    "\n",
    "interation = 5\n",
    "for i in range(interation):\n",
    "    \n",
    "    tagged_training_set = []\n",
    "    for tweet in training_set:\n",
    "        tagged_training_set.append(log_viterbi((a, b, c), tweet))\n",
    "        \n",
    "    corpus =  num_corpus + tagged_training_set\n",
    "    a, b, c, d = log_count_new(corpus, word_numbers, tag_numbers)\n",
    "    a, b, c, d = log_expected_count(corpus, word_numbers, tag_numbers, a, b, c, d)\n",
    "    \n",
    "    # adapt emission\n",
    "    log_emission = log_adapt(log_emission)\n",
    "    \n",
    "    \n",
    "    prediction = []\n",
    "    original = []\n",
    "    \n",
    "    for sent in test_tweets:\n",
    "        word_index = []\n",
    "        for word, tag in sent:\n",
    "            original.append(tag)\n",
    "            word_index.append(word)\n",
    "        prediction_sent = log_viterbi((a,b,c), word_index)\n",
    "        for word, tag in prediction_sent:\n",
    "            prediction.append(tag)\n",
    "    \n",
    "    print(accuracy_score(original, prediction))\n",
    "    "
   ]
  },
  {
   "cell_type": "code",
   "execution_count": null,
   "metadata": {
    "collapsed": true,
    "deletable": true,
    "editable": true
   },
   "outputs": [],
   "source": []
  }
 ],
 "metadata": {
  "anaconda-cloud": {},
  "kernelspec": {
   "display_name": "Python 3",
   "language": "python",
   "name": "python3"
  },
  "language_info": {
   "codemirror_mode": {
    "name": "ipython",
    "version": 3
   },
   "file_extension": ".py",
   "mimetype": "text/x-python",
   "name": "python",
   "nbconvert_exporter": "python",
   "pygments_lexer": "ipython3",
   "version": "3.5.2"
  }
 },
 "nbformat": 4,
 "nbformat_minor": 1
}
